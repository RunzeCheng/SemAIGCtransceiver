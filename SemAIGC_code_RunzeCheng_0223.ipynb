{
  "nbformat": 4,
  "nbformat_minor": 0,
  "metadata": {
    "colab": {
      "provenance": [],
      "gpuType": "T4",
      "mount_file_id": "1zsshjL_MBlht-twoYCikom68g6PHCNzM",
      "authorship_tag": "ABX9TyNbwW8b7yYLs5bruYXQ7Upu",
      "include_colab_link": true
    },
    "kernelspec": {
      "name": "python3",
      "display_name": "Python 3"
    },
    "language_info": {
      "name": "python"
    },
    "widgets": {
      "application/vnd.jupyter.widget-state+json": {
        "b28d1373e7ef45bb9701260e21ab5254": {
          "model_module": "@jupyter-widgets/controls",
          "model_name": "VBoxModel",
          "model_module_version": "1.5.0",
          "state": {
            "_dom_classes": [],
            "_model_module": "@jupyter-widgets/controls",
            "_model_module_version": "1.5.0",
            "_model_name": "VBoxModel",
            "_view_count": null,
            "_view_module": "@jupyter-widgets/controls",
            "_view_module_version": "1.5.0",
            "_view_name": "VBoxView",
            "box_style": "",
            "children": [
              "IPY_MODEL_98a4e011d5ee43f39562e0937d6914fa",
              "IPY_MODEL_b29f1a1ec1184c74b3c7ff44d7fbdd38",
              "IPY_MODEL_f96968328ceb4f4cbe00601d739fc506",
              "IPY_MODEL_73de155228dd4e52abf748722c2126c2",
              "IPY_MODEL_4863c98a77be4040a2010cbdacefaf9a"
            ],
            "layout": "IPY_MODEL_5dafd5869d5847fab7593b9e9a712f29"
          }
        },
        "98a4e011d5ee43f39562e0937d6914fa": {
          "model_module": "@jupyter-widgets/controls",
          "model_name": "HTMLModel",
          "model_module_version": "1.5.0",
          "state": {
            "_dom_classes": [],
            "_model_module": "@jupyter-widgets/controls",
            "_model_module_version": "1.5.0",
            "_model_name": "HTMLModel",
            "_view_count": null,
            "_view_module": "@jupyter-widgets/controls",
            "_view_module_version": "1.5.0",
            "_view_name": "HTMLView",
            "description": "",
            "description_tooltip": null,
            "layout": "IPY_MODEL_b0fbdf5d76bc47648781e8193a218e12",
            "placeholder": "​",
            "style": "IPY_MODEL_9cc210750ba8400086f35dc8d6535b13",
            "value": "<center> <img\nsrc=https://huggingface.co/front/assets/huggingface_logo-noborder.svg\nalt='Hugging Face'> <br> Copy a token from <a\nhref=\"https://huggingface.co/settings/tokens\" target=\"_blank\">your Hugging Face\ntokens page</a> and paste it below. <br> Immediately click login after copying\nyour token or it might be stored in plain text in this notebook file. </center>"
          }
        },
        "b29f1a1ec1184c74b3c7ff44d7fbdd38": {
          "model_module": "@jupyter-widgets/controls",
          "model_name": "PasswordModel",
          "model_module_version": "1.5.0",
          "state": {
            "_dom_classes": [],
            "_model_module": "@jupyter-widgets/controls",
            "_model_module_version": "1.5.0",
            "_model_name": "PasswordModel",
            "_view_count": null,
            "_view_module": "@jupyter-widgets/controls",
            "_view_module_version": "1.5.0",
            "_view_name": "PasswordView",
            "continuous_update": true,
            "description": "Token:",
            "description_tooltip": null,
            "disabled": false,
            "layout": "IPY_MODEL_118662ce463940c8bda067aa96dad770",
            "placeholder": "​",
            "style": "IPY_MODEL_b4707a8db736442695b1c55feb59fa5b",
            "value": ""
          }
        },
        "f96968328ceb4f4cbe00601d739fc506": {
          "model_module": "@jupyter-widgets/controls",
          "model_name": "CheckboxModel",
          "model_module_version": "1.5.0",
          "state": {
            "_dom_classes": [],
            "_model_module": "@jupyter-widgets/controls",
            "_model_module_version": "1.5.0",
            "_model_name": "CheckboxModel",
            "_view_count": null,
            "_view_module": "@jupyter-widgets/controls",
            "_view_module_version": "1.5.0",
            "_view_name": "CheckboxView",
            "description": "Add token as git credential?",
            "description_tooltip": null,
            "disabled": false,
            "indent": true,
            "layout": "IPY_MODEL_8b4c2e5178044030aeecef641ee1a677",
            "style": "IPY_MODEL_67943d4622464ffa89dce277a4632b11",
            "value": true
          }
        },
        "73de155228dd4e52abf748722c2126c2": {
          "model_module": "@jupyter-widgets/controls",
          "model_name": "ButtonModel",
          "model_module_version": "1.5.0",
          "state": {
            "_dom_classes": [],
            "_model_module": "@jupyter-widgets/controls",
            "_model_module_version": "1.5.0",
            "_model_name": "ButtonModel",
            "_view_count": null,
            "_view_module": "@jupyter-widgets/controls",
            "_view_module_version": "1.5.0",
            "_view_name": "ButtonView",
            "button_style": "",
            "description": "Login",
            "disabled": false,
            "icon": "",
            "layout": "IPY_MODEL_b9a295a181b84576908edcba78568e37",
            "style": "IPY_MODEL_a75a481681824ff4a5d0eddde5d11b24",
            "tooltip": ""
          }
        },
        "4863c98a77be4040a2010cbdacefaf9a": {
          "model_module": "@jupyter-widgets/controls",
          "model_name": "HTMLModel",
          "model_module_version": "1.5.0",
          "state": {
            "_dom_classes": [],
            "_model_module": "@jupyter-widgets/controls",
            "_model_module_version": "1.5.0",
            "_model_name": "HTMLModel",
            "_view_count": null,
            "_view_module": "@jupyter-widgets/controls",
            "_view_module_version": "1.5.0",
            "_view_name": "HTMLView",
            "description": "",
            "description_tooltip": null,
            "layout": "IPY_MODEL_fde381d7fd414f39ad2677bd6d0af012",
            "placeholder": "​",
            "style": "IPY_MODEL_ad3142c39446424cb41558a9e1029762",
            "value": "\n<b>Pro Tip:</b> If you don't already have one, you can create a dedicated\n'notebooks' token with 'write' access, that you can then easily reuse for all\nnotebooks. </center>"
          }
        },
        "5dafd5869d5847fab7593b9e9a712f29": {
          "model_module": "@jupyter-widgets/base",
          "model_name": "LayoutModel",
          "model_module_version": "1.2.0",
          "state": {
            "_model_module": "@jupyter-widgets/base",
            "_model_module_version": "1.2.0",
            "_model_name": "LayoutModel",
            "_view_count": null,
            "_view_module": "@jupyter-widgets/base",
            "_view_module_version": "1.2.0",
            "_view_name": "LayoutView",
            "align_content": null,
            "align_items": "center",
            "align_self": null,
            "border": null,
            "bottom": null,
            "display": "flex",
            "flex": null,
            "flex_flow": "column",
            "grid_area": null,
            "grid_auto_columns": null,
            "grid_auto_flow": null,
            "grid_auto_rows": null,
            "grid_column": null,
            "grid_gap": null,
            "grid_row": null,
            "grid_template_areas": null,
            "grid_template_columns": null,
            "grid_template_rows": null,
            "height": null,
            "justify_content": null,
            "justify_items": null,
            "left": null,
            "margin": null,
            "max_height": null,
            "max_width": null,
            "min_height": null,
            "min_width": null,
            "object_fit": null,
            "object_position": null,
            "order": null,
            "overflow": null,
            "overflow_x": null,
            "overflow_y": null,
            "padding": null,
            "right": null,
            "top": null,
            "visibility": null,
            "width": "50%"
          }
        },
        "b0fbdf5d76bc47648781e8193a218e12": {
          "model_module": "@jupyter-widgets/base",
          "model_name": "LayoutModel",
          "model_module_version": "1.2.0",
          "state": {
            "_model_module": "@jupyter-widgets/base",
            "_model_module_version": "1.2.0",
            "_model_name": "LayoutModel",
            "_view_count": null,
            "_view_module": "@jupyter-widgets/base",
            "_view_module_version": "1.2.0",
            "_view_name": "LayoutView",
            "align_content": null,
            "align_items": null,
            "align_self": null,
            "border": null,
            "bottom": null,
            "display": null,
            "flex": null,
            "flex_flow": null,
            "grid_area": null,
            "grid_auto_columns": null,
            "grid_auto_flow": null,
            "grid_auto_rows": null,
            "grid_column": null,
            "grid_gap": null,
            "grid_row": null,
            "grid_template_areas": null,
            "grid_template_columns": null,
            "grid_template_rows": null,
            "height": null,
            "justify_content": null,
            "justify_items": null,
            "left": null,
            "margin": null,
            "max_height": null,
            "max_width": null,
            "min_height": null,
            "min_width": null,
            "object_fit": null,
            "object_position": null,
            "order": null,
            "overflow": null,
            "overflow_x": null,
            "overflow_y": null,
            "padding": null,
            "right": null,
            "top": null,
            "visibility": null,
            "width": null
          }
        },
        "9cc210750ba8400086f35dc8d6535b13": {
          "model_module": "@jupyter-widgets/controls",
          "model_name": "DescriptionStyleModel",
          "model_module_version": "1.5.0",
          "state": {
            "_model_module": "@jupyter-widgets/controls",
            "_model_module_version": "1.5.0",
            "_model_name": "DescriptionStyleModel",
            "_view_count": null,
            "_view_module": "@jupyter-widgets/base",
            "_view_module_version": "1.2.0",
            "_view_name": "StyleView",
            "description_width": ""
          }
        },
        "118662ce463940c8bda067aa96dad770": {
          "model_module": "@jupyter-widgets/base",
          "model_name": "LayoutModel",
          "model_module_version": "1.2.0",
          "state": {
            "_model_module": "@jupyter-widgets/base",
            "_model_module_version": "1.2.0",
            "_model_name": "LayoutModel",
            "_view_count": null,
            "_view_module": "@jupyter-widgets/base",
            "_view_module_version": "1.2.0",
            "_view_name": "LayoutView",
            "align_content": null,
            "align_items": null,
            "align_self": null,
            "border": null,
            "bottom": null,
            "display": null,
            "flex": null,
            "flex_flow": null,
            "grid_area": null,
            "grid_auto_columns": null,
            "grid_auto_flow": null,
            "grid_auto_rows": null,
            "grid_column": null,
            "grid_gap": null,
            "grid_row": null,
            "grid_template_areas": null,
            "grid_template_columns": null,
            "grid_template_rows": null,
            "height": null,
            "justify_content": null,
            "justify_items": null,
            "left": null,
            "margin": null,
            "max_height": null,
            "max_width": null,
            "min_height": null,
            "min_width": null,
            "object_fit": null,
            "object_position": null,
            "order": null,
            "overflow": null,
            "overflow_x": null,
            "overflow_y": null,
            "padding": null,
            "right": null,
            "top": null,
            "visibility": null,
            "width": null
          }
        },
        "b4707a8db736442695b1c55feb59fa5b": {
          "model_module": "@jupyter-widgets/controls",
          "model_name": "DescriptionStyleModel",
          "model_module_version": "1.5.0",
          "state": {
            "_model_module": "@jupyter-widgets/controls",
            "_model_module_version": "1.5.0",
            "_model_name": "DescriptionStyleModel",
            "_view_count": null,
            "_view_module": "@jupyter-widgets/base",
            "_view_module_version": "1.2.0",
            "_view_name": "StyleView",
            "description_width": ""
          }
        },
        "8b4c2e5178044030aeecef641ee1a677": {
          "model_module": "@jupyter-widgets/base",
          "model_name": "LayoutModel",
          "model_module_version": "1.2.0",
          "state": {
            "_model_module": "@jupyter-widgets/base",
            "_model_module_version": "1.2.0",
            "_model_name": "LayoutModel",
            "_view_count": null,
            "_view_module": "@jupyter-widgets/base",
            "_view_module_version": "1.2.0",
            "_view_name": "LayoutView",
            "align_content": null,
            "align_items": null,
            "align_self": null,
            "border": null,
            "bottom": null,
            "display": null,
            "flex": null,
            "flex_flow": null,
            "grid_area": null,
            "grid_auto_columns": null,
            "grid_auto_flow": null,
            "grid_auto_rows": null,
            "grid_column": null,
            "grid_gap": null,
            "grid_row": null,
            "grid_template_areas": null,
            "grid_template_columns": null,
            "grid_template_rows": null,
            "height": null,
            "justify_content": null,
            "justify_items": null,
            "left": null,
            "margin": null,
            "max_height": null,
            "max_width": null,
            "min_height": null,
            "min_width": null,
            "object_fit": null,
            "object_position": null,
            "order": null,
            "overflow": null,
            "overflow_x": null,
            "overflow_y": null,
            "padding": null,
            "right": null,
            "top": null,
            "visibility": null,
            "width": null
          }
        },
        "67943d4622464ffa89dce277a4632b11": {
          "model_module": "@jupyter-widgets/controls",
          "model_name": "DescriptionStyleModel",
          "model_module_version": "1.5.0",
          "state": {
            "_model_module": "@jupyter-widgets/controls",
            "_model_module_version": "1.5.0",
            "_model_name": "DescriptionStyleModel",
            "_view_count": null,
            "_view_module": "@jupyter-widgets/base",
            "_view_module_version": "1.2.0",
            "_view_name": "StyleView",
            "description_width": ""
          }
        },
        "b9a295a181b84576908edcba78568e37": {
          "model_module": "@jupyter-widgets/base",
          "model_name": "LayoutModel",
          "model_module_version": "1.2.0",
          "state": {
            "_model_module": "@jupyter-widgets/base",
            "_model_module_version": "1.2.0",
            "_model_name": "LayoutModel",
            "_view_count": null,
            "_view_module": "@jupyter-widgets/base",
            "_view_module_version": "1.2.0",
            "_view_name": "LayoutView",
            "align_content": null,
            "align_items": null,
            "align_self": null,
            "border": null,
            "bottom": null,
            "display": null,
            "flex": null,
            "flex_flow": null,
            "grid_area": null,
            "grid_auto_columns": null,
            "grid_auto_flow": null,
            "grid_auto_rows": null,
            "grid_column": null,
            "grid_gap": null,
            "grid_row": null,
            "grid_template_areas": null,
            "grid_template_columns": null,
            "grid_template_rows": null,
            "height": null,
            "justify_content": null,
            "justify_items": null,
            "left": null,
            "margin": null,
            "max_height": null,
            "max_width": null,
            "min_height": null,
            "min_width": null,
            "object_fit": null,
            "object_position": null,
            "order": null,
            "overflow": null,
            "overflow_x": null,
            "overflow_y": null,
            "padding": null,
            "right": null,
            "top": null,
            "visibility": null,
            "width": null
          }
        },
        "a75a481681824ff4a5d0eddde5d11b24": {
          "model_module": "@jupyter-widgets/controls",
          "model_name": "ButtonStyleModel",
          "model_module_version": "1.5.0",
          "state": {
            "_model_module": "@jupyter-widgets/controls",
            "_model_module_version": "1.5.0",
            "_model_name": "ButtonStyleModel",
            "_view_count": null,
            "_view_module": "@jupyter-widgets/base",
            "_view_module_version": "1.2.0",
            "_view_name": "StyleView",
            "button_color": null,
            "font_weight": ""
          }
        },
        "fde381d7fd414f39ad2677bd6d0af012": {
          "model_module": "@jupyter-widgets/base",
          "model_name": "LayoutModel",
          "model_module_version": "1.2.0",
          "state": {
            "_model_module": "@jupyter-widgets/base",
            "_model_module_version": "1.2.0",
            "_model_name": "LayoutModel",
            "_view_count": null,
            "_view_module": "@jupyter-widgets/base",
            "_view_module_version": "1.2.0",
            "_view_name": "LayoutView",
            "align_content": null,
            "align_items": null,
            "align_self": null,
            "border": null,
            "bottom": null,
            "display": null,
            "flex": null,
            "flex_flow": null,
            "grid_area": null,
            "grid_auto_columns": null,
            "grid_auto_flow": null,
            "grid_auto_rows": null,
            "grid_column": null,
            "grid_gap": null,
            "grid_row": null,
            "grid_template_areas": null,
            "grid_template_columns": null,
            "grid_template_rows": null,
            "height": null,
            "justify_content": null,
            "justify_items": null,
            "left": null,
            "margin": null,
            "max_height": null,
            "max_width": null,
            "min_height": null,
            "min_width": null,
            "object_fit": null,
            "object_position": null,
            "order": null,
            "overflow": null,
            "overflow_x": null,
            "overflow_y": null,
            "padding": null,
            "right": null,
            "top": null,
            "visibility": null,
            "width": null
          }
        },
        "ad3142c39446424cb41558a9e1029762": {
          "model_module": "@jupyter-widgets/controls",
          "model_name": "DescriptionStyleModel",
          "model_module_version": "1.5.0",
          "state": {
            "_model_module": "@jupyter-widgets/controls",
            "_model_module_version": "1.5.0",
            "_model_name": "DescriptionStyleModel",
            "_view_count": null,
            "_view_module": "@jupyter-widgets/base",
            "_view_module_version": "1.2.0",
            "_view_name": "StyleView",
            "description_width": ""
          }
        },
        "0cab524f5a7a41d796616d24c8d48a88": {
          "model_module": "@jupyter-widgets/controls",
          "model_name": "HBoxModel",
          "model_module_version": "1.5.0",
          "state": {
            "_dom_classes": [],
            "_model_module": "@jupyter-widgets/controls",
            "_model_module_version": "1.5.0",
            "_model_name": "HBoxModel",
            "_view_count": null,
            "_view_module": "@jupyter-widgets/controls",
            "_view_module_version": "1.5.0",
            "_view_name": "HBoxView",
            "box_style": "",
            "children": [
              "IPY_MODEL_d0acdc988b78485989ed6cd6b801f805",
              "IPY_MODEL_af6821ae4090439da81baf08e70c5da9",
              "IPY_MODEL_ede5afbb37a6447d9966f52efb573620"
            ],
            "layout": "IPY_MODEL_07ed3850945e48d5948da70da777c9da"
          }
        },
        "d0acdc988b78485989ed6cd6b801f805": {
          "model_module": "@jupyter-widgets/controls",
          "model_name": "HTMLModel",
          "model_module_version": "1.5.0",
          "state": {
            "_dom_classes": [],
            "_model_module": "@jupyter-widgets/controls",
            "_model_module_version": "1.5.0",
            "_model_name": "HTMLModel",
            "_view_count": null,
            "_view_module": "@jupyter-widgets/controls",
            "_view_module_version": "1.5.0",
            "_view_name": "HTMLView",
            "description": "",
            "description_tooltip": null,
            "layout": "IPY_MODEL_fb4a517c839749adbbcce726ad22c15c",
            "placeholder": "​",
            "style": "IPY_MODEL_cbd8f5d733fb4bc7b569784a5e74e26e",
            "value": "100%"
          }
        },
        "af6821ae4090439da81baf08e70c5da9": {
          "model_module": "@jupyter-widgets/controls",
          "model_name": "FloatProgressModel",
          "model_module_version": "1.5.0",
          "state": {
            "_dom_classes": [],
            "_model_module": "@jupyter-widgets/controls",
            "_model_module_version": "1.5.0",
            "_model_name": "FloatProgressModel",
            "_view_count": null,
            "_view_module": "@jupyter-widgets/controls",
            "_view_module_version": "1.5.0",
            "_view_name": "ProgressView",
            "bar_style": "success",
            "description": "",
            "description_tooltip": null,
            "layout": "IPY_MODEL_fc4504d167c540a68408f5bde9c0e41b",
            "max": 20,
            "min": 0,
            "orientation": "horizontal",
            "style": "IPY_MODEL_6e346d551fc34cc3b8d944aca9785131",
            "value": 20
          }
        },
        "ede5afbb37a6447d9966f52efb573620": {
          "model_module": "@jupyter-widgets/controls",
          "model_name": "HTMLModel",
          "model_module_version": "1.5.0",
          "state": {
            "_dom_classes": [],
            "_model_module": "@jupyter-widgets/controls",
            "_model_module_version": "1.5.0",
            "_model_name": "HTMLModel",
            "_view_count": null,
            "_view_module": "@jupyter-widgets/controls",
            "_view_module_version": "1.5.0",
            "_view_name": "HTMLView",
            "description": "",
            "description_tooltip": null,
            "layout": "IPY_MODEL_cc59ee6d0b3f45a481545901edd4450b",
            "placeholder": "​",
            "style": "IPY_MODEL_0a18b29f9b5544b49f49ae9cce6deb76",
            "value": " 20/20 [00:08&lt;00:00,  2.33it/s]"
          }
        },
        "07ed3850945e48d5948da70da777c9da": {
          "model_module": "@jupyter-widgets/base",
          "model_name": "LayoutModel",
          "model_module_version": "1.2.0",
          "state": {
            "_model_module": "@jupyter-widgets/base",
            "_model_module_version": "1.2.0",
            "_model_name": "LayoutModel",
            "_view_count": null,
            "_view_module": "@jupyter-widgets/base",
            "_view_module_version": "1.2.0",
            "_view_name": "LayoutView",
            "align_content": null,
            "align_items": null,
            "align_self": null,
            "border": null,
            "bottom": null,
            "display": null,
            "flex": null,
            "flex_flow": null,
            "grid_area": null,
            "grid_auto_columns": null,
            "grid_auto_flow": null,
            "grid_auto_rows": null,
            "grid_column": null,
            "grid_gap": null,
            "grid_row": null,
            "grid_template_areas": null,
            "grid_template_columns": null,
            "grid_template_rows": null,
            "height": null,
            "justify_content": null,
            "justify_items": null,
            "left": null,
            "margin": null,
            "max_height": null,
            "max_width": null,
            "min_height": null,
            "min_width": null,
            "object_fit": null,
            "object_position": null,
            "order": null,
            "overflow": null,
            "overflow_x": null,
            "overflow_y": null,
            "padding": null,
            "right": null,
            "top": null,
            "visibility": null,
            "width": null
          }
        },
        "fb4a517c839749adbbcce726ad22c15c": {
          "model_module": "@jupyter-widgets/base",
          "model_name": "LayoutModel",
          "model_module_version": "1.2.0",
          "state": {
            "_model_module": "@jupyter-widgets/base",
            "_model_module_version": "1.2.0",
            "_model_name": "LayoutModel",
            "_view_count": null,
            "_view_module": "@jupyter-widgets/base",
            "_view_module_version": "1.2.0",
            "_view_name": "LayoutView",
            "align_content": null,
            "align_items": null,
            "align_self": null,
            "border": null,
            "bottom": null,
            "display": null,
            "flex": null,
            "flex_flow": null,
            "grid_area": null,
            "grid_auto_columns": null,
            "grid_auto_flow": null,
            "grid_auto_rows": null,
            "grid_column": null,
            "grid_gap": null,
            "grid_row": null,
            "grid_template_areas": null,
            "grid_template_columns": null,
            "grid_template_rows": null,
            "height": null,
            "justify_content": null,
            "justify_items": null,
            "left": null,
            "margin": null,
            "max_height": null,
            "max_width": null,
            "min_height": null,
            "min_width": null,
            "object_fit": null,
            "object_position": null,
            "order": null,
            "overflow": null,
            "overflow_x": null,
            "overflow_y": null,
            "padding": null,
            "right": null,
            "top": null,
            "visibility": null,
            "width": null
          }
        },
        "cbd8f5d733fb4bc7b569784a5e74e26e": {
          "model_module": "@jupyter-widgets/controls",
          "model_name": "DescriptionStyleModel",
          "model_module_version": "1.5.0",
          "state": {
            "_model_module": "@jupyter-widgets/controls",
            "_model_module_version": "1.5.0",
            "_model_name": "DescriptionStyleModel",
            "_view_count": null,
            "_view_module": "@jupyter-widgets/base",
            "_view_module_version": "1.2.0",
            "_view_name": "StyleView",
            "description_width": ""
          }
        },
        "fc4504d167c540a68408f5bde9c0e41b": {
          "model_module": "@jupyter-widgets/base",
          "model_name": "LayoutModel",
          "model_module_version": "1.2.0",
          "state": {
            "_model_module": "@jupyter-widgets/base",
            "_model_module_version": "1.2.0",
            "_model_name": "LayoutModel",
            "_view_count": null,
            "_view_module": "@jupyter-widgets/base",
            "_view_module_version": "1.2.0",
            "_view_name": "LayoutView",
            "align_content": null,
            "align_items": null,
            "align_self": null,
            "border": null,
            "bottom": null,
            "display": null,
            "flex": null,
            "flex_flow": null,
            "grid_area": null,
            "grid_auto_columns": null,
            "grid_auto_flow": null,
            "grid_auto_rows": null,
            "grid_column": null,
            "grid_gap": null,
            "grid_row": null,
            "grid_template_areas": null,
            "grid_template_columns": null,
            "grid_template_rows": null,
            "height": null,
            "justify_content": null,
            "justify_items": null,
            "left": null,
            "margin": null,
            "max_height": null,
            "max_width": null,
            "min_height": null,
            "min_width": null,
            "object_fit": null,
            "object_position": null,
            "order": null,
            "overflow": null,
            "overflow_x": null,
            "overflow_y": null,
            "padding": null,
            "right": null,
            "top": null,
            "visibility": null,
            "width": null
          }
        },
        "6e346d551fc34cc3b8d944aca9785131": {
          "model_module": "@jupyter-widgets/controls",
          "model_name": "ProgressStyleModel",
          "model_module_version": "1.5.0",
          "state": {
            "_model_module": "@jupyter-widgets/controls",
            "_model_module_version": "1.5.0",
            "_model_name": "ProgressStyleModel",
            "_view_count": null,
            "_view_module": "@jupyter-widgets/base",
            "_view_module_version": "1.2.0",
            "_view_name": "StyleView",
            "bar_color": null,
            "description_width": ""
          }
        },
        "cc59ee6d0b3f45a481545901edd4450b": {
          "model_module": "@jupyter-widgets/base",
          "model_name": "LayoutModel",
          "model_module_version": "1.2.0",
          "state": {
            "_model_module": "@jupyter-widgets/base",
            "_model_module_version": "1.2.0",
            "_model_name": "LayoutModel",
            "_view_count": null,
            "_view_module": "@jupyter-widgets/base",
            "_view_module_version": "1.2.0",
            "_view_name": "LayoutView",
            "align_content": null,
            "align_items": null,
            "align_self": null,
            "border": null,
            "bottom": null,
            "display": null,
            "flex": null,
            "flex_flow": null,
            "grid_area": null,
            "grid_auto_columns": null,
            "grid_auto_flow": null,
            "grid_auto_rows": null,
            "grid_column": null,
            "grid_gap": null,
            "grid_row": null,
            "grid_template_areas": null,
            "grid_template_columns": null,
            "grid_template_rows": null,
            "height": null,
            "justify_content": null,
            "justify_items": null,
            "left": null,
            "margin": null,
            "max_height": null,
            "max_width": null,
            "min_height": null,
            "min_width": null,
            "object_fit": null,
            "object_position": null,
            "order": null,
            "overflow": null,
            "overflow_x": null,
            "overflow_y": null,
            "padding": null,
            "right": null,
            "top": null,
            "visibility": null,
            "width": null
          }
        },
        "0a18b29f9b5544b49f49ae9cce6deb76": {
          "model_module": "@jupyter-widgets/controls",
          "model_name": "DescriptionStyleModel",
          "model_module_version": "1.5.0",
          "state": {
            "_model_module": "@jupyter-widgets/controls",
            "_model_module_version": "1.5.0",
            "_model_name": "DescriptionStyleModel",
            "_view_count": null,
            "_view_module": "@jupyter-widgets/base",
            "_view_module_version": "1.2.0",
            "_view_name": "StyleView",
            "description_width": ""
          }
        },
        "9db928583ec9489b89c374bd03d3f328": {
          "model_module": "@jupyter-widgets/controls",
          "model_name": "HBoxModel",
          "model_module_version": "1.5.0",
          "state": {
            "_dom_classes": [],
            "_model_module": "@jupyter-widgets/controls",
            "_model_module_version": "1.5.0",
            "_model_name": "HBoxModel",
            "_view_count": null,
            "_view_module": "@jupyter-widgets/controls",
            "_view_module_version": "1.5.0",
            "_view_name": "HBoxView",
            "box_style": "",
            "children": [
              "IPY_MODEL_6591c70150714bf5845b31c51431ec77",
              "IPY_MODEL_080fab7d659148b0a6dda055b9c215c7",
              "IPY_MODEL_3d2e998c5bf544e2b1249cf99671b651"
            ],
            "layout": "IPY_MODEL_5f93e7c7ed0e47d5bd1094596594c4d7"
          }
        },
        "6591c70150714bf5845b31c51431ec77": {
          "model_module": "@jupyter-widgets/controls",
          "model_name": "HTMLModel",
          "model_module_version": "1.5.0",
          "state": {
            "_dom_classes": [],
            "_model_module": "@jupyter-widgets/controls",
            "_model_module_version": "1.5.0",
            "_model_name": "HTMLModel",
            "_view_count": null,
            "_view_module": "@jupyter-widgets/controls",
            "_view_module_version": "1.5.0",
            "_view_name": "HTMLView",
            "description": "",
            "description_tooltip": null,
            "layout": "IPY_MODEL_ba27f5645919405eaa1f544c275273b1",
            "placeholder": "​",
            "style": "IPY_MODEL_06698e5197f94817b00ac58e25c8d81d",
            "value": "100%"
          }
        },
        "080fab7d659148b0a6dda055b9c215c7": {
          "model_module": "@jupyter-widgets/controls",
          "model_name": "FloatProgressModel",
          "model_module_version": "1.5.0",
          "state": {
            "_dom_classes": [],
            "_model_module": "@jupyter-widgets/controls",
            "_model_module_version": "1.5.0",
            "_model_name": "FloatProgressModel",
            "_view_count": null,
            "_view_module": "@jupyter-widgets/controls",
            "_view_module_version": "1.5.0",
            "_view_name": "ProgressView",
            "bar_style": "success",
            "description": "",
            "description_tooltip": null,
            "layout": "IPY_MODEL_a456db07ad954424907db53f1fdfdb89",
            "max": 20,
            "min": 0,
            "orientation": "horizontal",
            "style": "IPY_MODEL_a92ab3504c8d45ceb97ad89774a2098b",
            "value": 20
          }
        },
        "3d2e998c5bf544e2b1249cf99671b651": {
          "model_module": "@jupyter-widgets/controls",
          "model_name": "HTMLModel",
          "model_module_version": "1.5.0",
          "state": {
            "_dom_classes": [],
            "_model_module": "@jupyter-widgets/controls",
            "_model_module_version": "1.5.0",
            "_model_name": "HTMLModel",
            "_view_count": null,
            "_view_module": "@jupyter-widgets/controls",
            "_view_module_version": "1.5.0",
            "_view_name": "HTMLView",
            "description": "",
            "description_tooltip": null,
            "layout": "IPY_MODEL_b6f9ae890d594f7dae87d7cf0150a454",
            "placeholder": "​",
            "style": "IPY_MODEL_52d39acdcf9b4478a9e966fa4e10ac02",
            "value": " 20/20 [00:08&lt;00:00,  2.31it/s]"
          }
        },
        "5f93e7c7ed0e47d5bd1094596594c4d7": {
          "model_module": "@jupyter-widgets/base",
          "model_name": "LayoutModel",
          "model_module_version": "1.2.0",
          "state": {
            "_model_module": "@jupyter-widgets/base",
            "_model_module_version": "1.2.0",
            "_model_name": "LayoutModel",
            "_view_count": null,
            "_view_module": "@jupyter-widgets/base",
            "_view_module_version": "1.2.0",
            "_view_name": "LayoutView",
            "align_content": null,
            "align_items": null,
            "align_self": null,
            "border": null,
            "bottom": null,
            "display": null,
            "flex": null,
            "flex_flow": null,
            "grid_area": null,
            "grid_auto_columns": null,
            "grid_auto_flow": null,
            "grid_auto_rows": null,
            "grid_column": null,
            "grid_gap": null,
            "grid_row": null,
            "grid_template_areas": null,
            "grid_template_columns": null,
            "grid_template_rows": null,
            "height": null,
            "justify_content": null,
            "justify_items": null,
            "left": null,
            "margin": null,
            "max_height": null,
            "max_width": null,
            "min_height": null,
            "min_width": null,
            "object_fit": null,
            "object_position": null,
            "order": null,
            "overflow": null,
            "overflow_x": null,
            "overflow_y": null,
            "padding": null,
            "right": null,
            "top": null,
            "visibility": null,
            "width": null
          }
        },
        "ba27f5645919405eaa1f544c275273b1": {
          "model_module": "@jupyter-widgets/base",
          "model_name": "LayoutModel",
          "model_module_version": "1.2.0",
          "state": {
            "_model_module": "@jupyter-widgets/base",
            "_model_module_version": "1.2.0",
            "_model_name": "LayoutModel",
            "_view_count": null,
            "_view_module": "@jupyter-widgets/base",
            "_view_module_version": "1.2.0",
            "_view_name": "LayoutView",
            "align_content": null,
            "align_items": null,
            "align_self": null,
            "border": null,
            "bottom": null,
            "display": null,
            "flex": null,
            "flex_flow": null,
            "grid_area": null,
            "grid_auto_columns": null,
            "grid_auto_flow": null,
            "grid_auto_rows": null,
            "grid_column": null,
            "grid_gap": null,
            "grid_row": null,
            "grid_template_areas": null,
            "grid_template_columns": null,
            "grid_template_rows": null,
            "height": null,
            "justify_content": null,
            "justify_items": null,
            "left": null,
            "margin": null,
            "max_height": null,
            "max_width": null,
            "min_height": null,
            "min_width": null,
            "object_fit": null,
            "object_position": null,
            "order": null,
            "overflow": null,
            "overflow_x": null,
            "overflow_y": null,
            "padding": null,
            "right": null,
            "top": null,
            "visibility": null,
            "width": null
          }
        },
        "06698e5197f94817b00ac58e25c8d81d": {
          "model_module": "@jupyter-widgets/controls",
          "model_name": "DescriptionStyleModel",
          "model_module_version": "1.5.0",
          "state": {
            "_model_module": "@jupyter-widgets/controls",
            "_model_module_version": "1.5.0",
            "_model_name": "DescriptionStyleModel",
            "_view_count": null,
            "_view_module": "@jupyter-widgets/base",
            "_view_module_version": "1.2.0",
            "_view_name": "StyleView",
            "description_width": ""
          }
        },
        "a456db07ad954424907db53f1fdfdb89": {
          "model_module": "@jupyter-widgets/base",
          "model_name": "LayoutModel",
          "model_module_version": "1.2.0",
          "state": {
            "_model_module": "@jupyter-widgets/base",
            "_model_module_version": "1.2.0",
            "_model_name": "LayoutModel",
            "_view_count": null,
            "_view_module": "@jupyter-widgets/base",
            "_view_module_version": "1.2.0",
            "_view_name": "LayoutView",
            "align_content": null,
            "align_items": null,
            "align_self": null,
            "border": null,
            "bottom": null,
            "display": null,
            "flex": null,
            "flex_flow": null,
            "grid_area": null,
            "grid_auto_columns": null,
            "grid_auto_flow": null,
            "grid_auto_rows": null,
            "grid_column": null,
            "grid_gap": null,
            "grid_row": null,
            "grid_template_areas": null,
            "grid_template_columns": null,
            "grid_template_rows": null,
            "height": null,
            "justify_content": null,
            "justify_items": null,
            "left": null,
            "margin": null,
            "max_height": null,
            "max_width": null,
            "min_height": null,
            "min_width": null,
            "object_fit": null,
            "object_position": null,
            "order": null,
            "overflow": null,
            "overflow_x": null,
            "overflow_y": null,
            "padding": null,
            "right": null,
            "top": null,
            "visibility": null,
            "width": null
          }
        },
        "a92ab3504c8d45ceb97ad89774a2098b": {
          "model_module": "@jupyter-widgets/controls",
          "model_name": "ProgressStyleModel",
          "model_module_version": "1.5.0",
          "state": {
            "_model_module": "@jupyter-widgets/controls",
            "_model_module_version": "1.5.0",
            "_model_name": "ProgressStyleModel",
            "_view_count": null,
            "_view_module": "@jupyter-widgets/base",
            "_view_module_version": "1.2.0",
            "_view_name": "StyleView",
            "bar_color": null,
            "description_width": ""
          }
        },
        "b6f9ae890d594f7dae87d7cf0150a454": {
          "model_module": "@jupyter-widgets/base",
          "model_name": "LayoutModel",
          "model_module_version": "1.2.0",
          "state": {
            "_model_module": "@jupyter-widgets/base",
            "_model_module_version": "1.2.0",
            "_model_name": "LayoutModel",
            "_view_count": null,
            "_view_module": "@jupyter-widgets/base",
            "_view_module_version": "1.2.0",
            "_view_name": "LayoutView",
            "align_content": null,
            "align_items": null,
            "align_self": null,
            "border": null,
            "bottom": null,
            "display": null,
            "flex": null,
            "flex_flow": null,
            "grid_area": null,
            "grid_auto_columns": null,
            "grid_auto_flow": null,
            "grid_auto_rows": null,
            "grid_column": null,
            "grid_gap": null,
            "grid_row": null,
            "grid_template_areas": null,
            "grid_template_columns": null,
            "grid_template_rows": null,
            "height": null,
            "justify_content": null,
            "justify_items": null,
            "left": null,
            "margin": null,
            "max_height": null,
            "max_width": null,
            "min_height": null,
            "min_width": null,
            "object_fit": null,
            "object_position": null,
            "order": null,
            "overflow": null,
            "overflow_x": null,
            "overflow_y": null,
            "padding": null,
            "right": null,
            "top": null,
            "visibility": null,
            "width": null
          }
        },
        "52d39acdcf9b4478a9e966fa4e10ac02": {
          "model_module": "@jupyter-widgets/controls",
          "model_name": "DescriptionStyleModel",
          "model_module_version": "1.5.0",
          "state": {
            "_model_module": "@jupyter-widgets/controls",
            "_model_module_version": "1.5.0",
            "_model_name": "DescriptionStyleModel",
            "_view_count": null,
            "_view_module": "@jupyter-widgets/base",
            "_view_module_version": "1.2.0",
            "_view_name": "StyleView",
            "description_width": ""
          }
        },
        "ba8450bf0cf04aaab9d9e8c95a6753da": {
          "model_module": "@jupyter-widgets/controls",
          "model_name": "HBoxModel",
          "model_module_version": "1.5.0",
          "state": {
            "_dom_classes": [],
            "_model_module": "@jupyter-widgets/controls",
            "_model_module_version": "1.5.0",
            "_model_name": "HBoxModel",
            "_view_count": null,
            "_view_module": "@jupyter-widgets/controls",
            "_view_module_version": "1.5.0",
            "_view_name": "HBoxView",
            "box_style": "",
            "children": [
              "IPY_MODEL_de1622572a6747e8848fa2803656f437",
              "IPY_MODEL_6b5fed37126846219c311f1bb9a3f6da",
              "IPY_MODEL_78d2a8f601c0497ca2e4fe018ec3d660"
            ],
            "layout": "IPY_MODEL_7b2c78575b0a4968b35e62cfbe8be26e"
          }
        },
        "de1622572a6747e8848fa2803656f437": {
          "model_module": "@jupyter-widgets/controls",
          "model_name": "HTMLModel",
          "model_module_version": "1.5.0",
          "state": {
            "_dom_classes": [],
            "_model_module": "@jupyter-widgets/controls",
            "_model_module_version": "1.5.0",
            "_model_name": "HTMLModel",
            "_view_count": null,
            "_view_module": "@jupyter-widgets/controls",
            "_view_module_version": "1.5.0",
            "_view_name": "HTMLView",
            "description": "",
            "description_tooltip": null,
            "layout": "IPY_MODEL_bf73be009de247539784c564fdb7c7b7",
            "placeholder": "​",
            "style": "IPY_MODEL_e9cc723889584e42a93de704550019c2",
            "value": ""
          }
        },
        "6b5fed37126846219c311f1bb9a3f6da": {
          "model_module": "@jupyter-widgets/controls",
          "model_name": "FloatProgressModel",
          "model_module_version": "1.5.0",
          "state": {
            "_dom_classes": [],
            "_model_module": "@jupyter-widgets/controls",
            "_model_module_version": "1.5.0",
            "_model_name": "FloatProgressModel",
            "_view_count": null,
            "_view_module": "@jupyter-widgets/controls",
            "_view_module_version": "1.5.0",
            "_view_name": "ProgressView",
            "bar_style": "success",
            "description": "",
            "description_tooltip": null,
            "layout": "IPY_MODEL_5419ba65ae9243f38dc35000f98e7298",
            "max": 1,
            "min": 0,
            "orientation": "horizontal",
            "style": "IPY_MODEL_f669b4dd389a4799b60ad7bc162cfa4b",
            "value": 1
          }
        },
        "78d2a8f601c0497ca2e4fe018ec3d660": {
          "model_module": "@jupyter-widgets/controls",
          "model_name": "HTMLModel",
          "model_module_version": "1.5.0",
          "state": {
            "_dom_classes": [],
            "_model_module": "@jupyter-widgets/controls",
            "_model_module_version": "1.5.0",
            "_model_name": "HTMLModel",
            "_view_count": null,
            "_view_module": "@jupyter-widgets/controls",
            "_view_module_version": "1.5.0",
            "_view_name": "HTMLView",
            "description": "",
            "description_tooltip": null,
            "layout": "IPY_MODEL_52bfa438b80246b68fb52adbaff58640",
            "placeholder": "​",
            "style": "IPY_MODEL_221f9f40758242a88c48911853a44925",
            "value": " 15/? [00:02&lt;00:00,  6.53it/s]"
          }
        },
        "7b2c78575b0a4968b35e62cfbe8be26e": {
          "model_module": "@jupyter-widgets/base",
          "model_name": "LayoutModel",
          "model_module_version": "1.2.0",
          "state": {
            "_model_module": "@jupyter-widgets/base",
            "_model_module_version": "1.2.0",
            "_model_name": "LayoutModel",
            "_view_count": null,
            "_view_module": "@jupyter-widgets/base",
            "_view_module_version": "1.2.0",
            "_view_name": "LayoutView",
            "align_content": null,
            "align_items": null,
            "align_self": null,
            "border": null,
            "bottom": null,
            "display": null,
            "flex": null,
            "flex_flow": null,
            "grid_area": null,
            "grid_auto_columns": null,
            "grid_auto_flow": null,
            "grid_auto_rows": null,
            "grid_column": null,
            "grid_gap": null,
            "grid_row": null,
            "grid_template_areas": null,
            "grid_template_columns": null,
            "grid_template_rows": null,
            "height": null,
            "justify_content": null,
            "justify_items": null,
            "left": null,
            "margin": null,
            "max_height": null,
            "max_width": null,
            "min_height": null,
            "min_width": null,
            "object_fit": null,
            "object_position": null,
            "order": null,
            "overflow": null,
            "overflow_x": null,
            "overflow_y": null,
            "padding": null,
            "right": null,
            "top": null,
            "visibility": null,
            "width": null
          }
        },
        "bf73be009de247539784c564fdb7c7b7": {
          "model_module": "@jupyter-widgets/base",
          "model_name": "LayoutModel",
          "model_module_version": "1.2.0",
          "state": {
            "_model_module": "@jupyter-widgets/base",
            "_model_module_version": "1.2.0",
            "_model_name": "LayoutModel",
            "_view_count": null,
            "_view_module": "@jupyter-widgets/base",
            "_view_module_version": "1.2.0",
            "_view_name": "LayoutView",
            "align_content": null,
            "align_items": null,
            "align_self": null,
            "border": null,
            "bottom": null,
            "display": null,
            "flex": null,
            "flex_flow": null,
            "grid_area": null,
            "grid_auto_columns": null,
            "grid_auto_flow": null,
            "grid_auto_rows": null,
            "grid_column": null,
            "grid_gap": null,
            "grid_row": null,
            "grid_template_areas": null,
            "grid_template_columns": null,
            "grid_template_rows": null,
            "height": null,
            "justify_content": null,
            "justify_items": null,
            "left": null,
            "margin": null,
            "max_height": null,
            "max_width": null,
            "min_height": null,
            "min_width": null,
            "object_fit": null,
            "object_position": null,
            "order": null,
            "overflow": null,
            "overflow_x": null,
            "overflow_y": null,
            "padding": null,
            "right": null,
            "top": null,
            "visibility": null,
            "width": null
          }
        },
        "e9cc723889584e42a93de704550019c2": {
          "model_module": "@jupyter-widgets/controls",
          "model_name": "DescriptionStyleModel",
          "model_module_version": "1.5.0",
          "state": {
            "_model_module": "@jupyter-widgets/controls",
            "_model_module_version": "1.5.0",
            "_model_name": "DescriptionStyleModel",
            "_view_count": null,
            "_view_module": "@jupyter-widgets/base",
            "_view_module_version": "1.2.0",
            "_view_name": "StyleView",
            "description_width": ""
          }
        },
        "5419ba65ae9243f38dc35000f98e7298": {
          "model_module": "@jupyter-widgets/base",
          "model_name": "LayoutModel",
          "model_module_version": "1.2.0",
          "state": {
            "_model_module": "@jupyter-widgets/base",
            "_model_module_version": "1.2.0",
            "_model_name": "LayoutModel",
            "_view_count": null,
            "_view_module": "@jupyter-widgets/base",
            "_view_module_version": "1.2.0",
            "_view_name": "LayoutView",
            "align_content": null,
            "align_items": null,
            "align_self": null,
            "border": null,
            "bottom": null,
            "display": null,
            "flex": null,
            "flex_flow": null,
            "grid_area": null,
            "grid_auto_columns": null,
            "grid_auto_flow": null,
            "grid_auto_rows": null,
            "grid_column": null,
            "grid_gap": null,
            "grid_row": null,
            "grid_template_areas": null,
            "grid_template_columns": null,
            "grid_template_rows": null,
            "height": null,
            "justify_content": null,
            "justify_items": null,
            "left": null,
            "margin": null,
            "max_height": null,
            "max_width": null,
            "min_height": null,
            "min_width": null,
            "object_fit": null,
            "object_position": null,
            "order": null,
            "overflow": null,
            "overflow_x": null,
            "overflow_y": null,
            "padding": null,
            "right": null,
            "top": null,
            "visibility": null,
            "width": "20px"
          }
        },
        "f669b4dd389a4799b60ad7bc162cfa4b": {
          "model_module": "@jupyter-widgets/controls",
          "model_name": "ProgressStyleModel",
          "model_module_version": "1.5.0",
          "state": {
            "_model_module": "@jupyter-widgets/controls",
            "_model_module_version": "1.5.0",
            "_model_name": "ProgressStyleModel",
            "_view_count": null,
            "_view_module": "@jupyter-widgets/base",
            "_view_module_version": "1.2.0",
            "_view_name": "StyleView",
            "bar_color": null,
            "description_width": ""
          }
        },
        "52bfa438b80246b68fb52adbaff58640": {
          "model_module": "@jupyter-widgets/base",
          "model_name": "LayoutModel",
          "model_module_version": "1.2.0",
          "state": {
            "_model_module": "@jupyter-widgets/base",
            "_model_module_version": "1.2.0",
            "_model_name": "LayoutModel",
            "_view_count": null,
            "_view_module": "@jupyter-widgets/base",
            "_view_module_version": "1.2.0",
            "_view_name": "LayoutView",
            "align_content": null,
            "align_items": null,
            "align_self": null,
            "border": null,
            "bottom": null,
            "display": null,
            "flex": null,
            "flex_flow": null,
            "grid_area": null,
            "grid_auto_columns": null,
            "grid_auto_flow": null,
            "grid_auto_rows": null,
            "grid_column": null,
            "grid_gap": null,
            "grid_row": null,
            "grid_template_areas": null,
            "grid_template_columns": null,
            "grid_template_rows": null,
            "height": null,
            "justify_content": null,
            "justify_items": null,
            "left": null,
            "margin": null,
            "max_height": null,
            "max_width": null,
            "min_height": null,
            "min_width": null,
            "object_fit": null,
            "object_position": null,
            "order": null,
            "overflow": null,
            "overflow_x": null,
            "overflow_y": null,
            "padding": null,
            "right": null,
            "top": null,
            "visibility": null,
            "width": null
          }
        },
        "221f9f40758242a88c48911853a44925": {
          "model_module": "@jupyter-widgets/controls",
          "model_name": "DescriptionStyleModel",
          "model_module_version": "1.5.0",
          "state": {
            "_model_module": "@jupyter-widgets/controls",
            "_model_module_version": "1.5.0",
            "_model_name": "DescriptionStyleModel",
            "_view_count": null,
            "_view_module": "@jupyter-widgets/base",
            "_view_module_version": "1.2.0",
            "_view_name": "StyleView",
            "description_width": ""
          }
        }
      }
    }
  },
  "cells": [
    {
      "cell_type": "markdown",
      "metadata": {
        "id": "view-in-github",
        "colab_type": "text"
      },
      "source": [
        "<a href=\"https://colab.research.google.com/github/RunzeCheng/SemAIGCtransceiver/blob/main/SemAIGC_code_RunzeCheng_0223.ipynb\" target=\"_parent\"><img src=\"https://colab.research.google.com/assets/colab-badge.svg\" alt=\"Open In Colab\"/></a>"
      ]
    },
    {
      "cell_type": "markdown",
      "source": [
        "# Project-SemAIGC\n",
        "# Author: Runze Cheng\n",
        "# University of Glasgow\n"
      ],
      "metadata": {
        "id": "f_R2WdOl3ogn"
      }
    },
    {
      "cell_type": "code",
      "source": [
        "!pip install --quiet --upgrade diffusers transformers scipy mediapy accelerate"
      ],
      "metadata": {
        "id": "fQf-jv534PD3"
      },
      "execution_count": null,
      "outputs": []
    },
    {
      "cell_type": "markdown",
      "source": [
        "## Import models and packages"
      ],
      "metadata": {
        "id": "AOb5ip9k4CFf"
      }
    },
    {
      "cell_type": "code",
      "execution_count": null,
      "metadata": {
        "id": "kvVyxhFM3iTf",
        "colab": {
          "base_uri": "https://localhost:8080/",
          "height": 87
        },
        "outputId": "99757021-093b-412e-9163-0e95ca27f111"
      },
      "outputs": [
        {
          "output_type": "execute_result",
          "data": {
            "text/plain": [
              "'\\nstablediffusionPipline: uses the PNDMScheduler by default\\nAutoencoderKL: autoencoder model that can decode the latents into image\\nUNet2DConditionModel: UNet model for denoising perocess\\nPNDMScheduler, LMSDiscreteScheduler, DDIMScheduler: different scheduler for interference\\nCLIPTextModel,CLIPTokenizer: Extract text as token\\nAutoImageProcessor, UperNetForSemanticSegmentation: Extract image segmentation\\n'"
            ],
            "application/vnd.google.colaboratory.intrinsic+json": {
              "type": "string"
            }
          },
          "metadata": {},
          "execution_count": 10
        }
      ],
      "source": [
        "\n",
        "\n",
        "import os\n",
        "import cv2\n",
        "import torch\n",
        "import numpy as np\n",
        "\n",
        "from torch import autocast\n",
        "from tqdm.auto import tqdm\n",
        "from pathlib import Path\n",
        "from huggingface_hub import HfApi\n",
        "from PIL import Image, ImageDraw\n",
        "from diffusers.utils import load_image\n",
        "from google.colab import output\n",
        "from huggingface_hub import notebook_login\n",
        "import torch.nn.functional as F\n",
        "\n",
        "from diffusers import StableDiffusionPipeline, AutoencoderKL, UNet2DConditionModel, PNDMScheduler, LMSDiscreteScheduler, DDIMScheduler, DDPMScheduler\n",
        "from transformers import CLIPTextModel, CLIPTokenizer, AutoImageProcessor, UperNetForSemanticSegmentation\n",
        "\n",
        "# from base64 import b64encode #image to video and save\n",
        "# from Ipython.display import HTML\n",
        "\"\"\"\n",
        "stablediffusionPipline: uses the PNDMScheduler by default\n",
        "AutoencoderKL: autoencoder model that can decode the latents into image\n",
        "UNet2DConditionModel: UNet model for denoising perocess\n",
        "PNDMScheduler, LMSDiscreteScheduler, DDIMScheduler, DDPMScheduler: different scheduler for interference  #The used scheduler in paper is DDPM, however, according to our test, DDIM performance beter.\n",
        "CLIPTextModel,CLIPTokenizer: Extract text as token\n",
        "AutoImageProcessor, UperNetForSemanticSegmentation: Extract image segmentation\n",
        "\"\"\""
      ]
    },
    {
      "cell_type": "code",
      "source": [
        "# \"\"\"Geonmo/laion-aesthetic-predictor\"\"\"\n",
        "# import pytorch_lightning as pl\n",
        "# import torch.nn as nn\n",
        "# import clip\n",
        "# from PIL import Image, ImageFile\n",
        "# import gradio as gr\n",
        "from google.colab import drive\n",
        "drive.mount(\"/content/drive\")\n",
        "os.chdir(\"/content/drive/MyDrive/Dataset_Sem\")\n",
        "filepath=\"/content/drive/MyDrive/Dataset_Sem/\""
      ],
      "metadata": {
        "id": "aSjs5fnBiyHk",
        "colab": {
          "base_uri": "https://localhost:8080/"
        },
        "outputId": "1508d806-e13b-4465-bc2f-8c508198bfd5"
      },
      "execution_count": null,
      "outputs": [
        {
          "output_type": "stream",
          "name": "stdout",
          "text": [
            "Drive already mounted at /content/drive; to attempt to forcibly remount, call drive.mount(\"/content/drive\", force_remount=True).\n"
          ]
        }
      ]
    },
    {
      "cell_type": "markdown",
      "source": [
        "Set device and huggingface account\n"
      ],
      "metadata": {
        "id": "-HnKDD6bSFBB"
      }
    },
    {
      "cell_type": "code",
      "source": [
        "device = 'cuda'\n",
        "\n",
        "output.enable_custom_widget_manager()\n",
        "notebook_login()"
      ],
      "metadata": {
        "colab": {
          "base_uri": "https://localhost:8080/",
          "height": 359,
          "referenced_widgets": [
            "b28d1373e7ef45bb9701260e21ab5254",
            "98a4e011d5ee43f39562e0937d6914fa",
            "b29f1a1ec1184c74b3c7ff44d7fbdd38",
            "f96968328ceb4f4cbe00601d739fc506",
            "73de155228dd4e52abf748722c2126c2",
            "4863c98a77be4040a2010cbdacefaf9a",
            "5dafd5869d5847fab7593b9e9a712f29",
            "b0fbdf5d76bc47648781e8193a218e12",
            "9cc210750ba8400086f35dc8d6535b13",
            "118662ce463940c8bda067aa96dad770",
            "b4707a8db736442695b1c55feb59fa5b",
            "8b4c2e5178044030aeecef641ee1a677",
            "67943d4622464ffa89dce277a4632b11",
            "b9a295a181b84576908edcba78568e37",
            "a75a481681824ff4a5d0eddde5d11b24",
            "fde381d7fd414f39ad2677bd6d0af012",
            "ad3142c39446424cb41558a9e1029762"
          ]
        },
        "id": "XQqiRVVpSKg8",
        "outputId": "5a4e48c6-667c-4665-8949-66299436d9cf"
      },
      "execution_count": null,
      "outputs": [
        {
          "output_type": "display_data",
          "data": {
            "text/plain": [
              "VBox(children=(HTML(value='<center> <img\\nsrc=https://huggingface.co/front/assets/huggingface_logo-noborder.sv…"
            ],
            "application/vnd.jupyter.widget-view+json": {
              "version_major": 2,
              "version_minor": 0,
              "model_id": "b28d1373e7ef45bb9701260e21ab5254"
            }
          },
          "metadata": {
            "application/vnd.jupyter.widget-view+json": {
              "colab": {
                "custom_widget_manager": {
                  "url": "https://ssl.gstatic.com/colaboratory-static/widgets/colab-cdn-widget-manager/2b70e893a8ba7c0f/manager.min.js"
                }
              }
            }
          }
        }
      ]
    },
    {
      "cell_type": "markdown",
      "source": [
        "# Load Semantic Processing Models for Modules in SemAIGC"
      ],
      "metadata": {
        "id": "eixkpekXd_Kz"
      }
    },
    {
      "cell_type": "markdown",
      "source": [
        "Channel-Aware Semantic noise schedular"
      ],
      "metadata": {
        "id": "RWh4C6oI1JcE"
      }
    },
    {
      "cell_type": "code",
      "source": [
        "import torch\n",
        "import numpy as np\n",
        "import math\n",
        "import sympy as sy\n",
        "from scipy.optimize import bisect\n",
        "\n"
      ],
      "metadata": {
        "id": "82TCs_grzTCu"
      },
      "execution_count": null,
      "outputs": []
    },
    {
      "cell_type": "code",
      "source": [
        "#This is the simplified version of schedular for fine-tuning module, just for testing. Since we didn't specifically refine this, the image could come out green.\n",
        "#It is recommand to use original DDIM schedular, and consider the sigma value of channel caused channel noise, still works.\n",
        "class FFschedular:\n",
        "  '''Schedular for the fine-tuning module'''\n",
        "\n",
        "  def __init__(self,timesteps, R_step, start=0.0001, end=0.02, init_gamma=0.005, n_sigma):\n",
        "    self.timesteps = timesteps\n",
        "    self.R_step = R_step\n",
        "    self.start = start\n",
        "    self.end = end\n",
        "    self.alpha_sch = []\n",
        "    self.init_gamma = init_gamma\n",
        "  def linear_beta_schedule(self):\n",
        "    \"\"\"'test with defualt schedule'\"\"\"\n",
        "    self.beta_sch = torch.linspace(self.start, self.end, self.timesteps)\n",
        "    self.alpha_sch = 1 - self.beta_sch\n",
        "    return self.alpha_sch\n",
        "\n",
        "  def gamma_schedule(self):\n",
        "    prod_alpha=[]\n",
        "    alpha_table = self.linear_beta_schedule()\n",
        "    print(alpha_table)\n",
        "    alpha_table=alpha_table.tolist()\n",
        "    print(alpha_table[0])\n",
        "    for t in range(self.R_step):\n",
        "      if t == 0:\n",
        "        alpha_sqrt = 1\n",
        "      else:\n",
        "        alpha_sqrt = math.sqrt(alpha_table[t])\n",
        "      prod_alpha.append(1)\n",
        "      prod_alpha = [x * alpha_table[t] for x in prod_alpha]\n",
        "      # prod_alpha = prod_alpha*alpha_table[t]\n",
        "    # gamma_anumber = list(range(self.R_step))\n",
        "\n",
        "    # multi_a_r = [x * math.sqrt(y) for x, y in zip(prod_alpha, gamma_anumber)]\n",
        "    # gamma_step = (1-(sum(prod_alpha)*math.sqrt(self.init_gamma)))/sum(multi_a_r)\n",
        "\n",
        "\n",
        "    self.gamma_sch = torch.linspace(self.init_gamma, self.init_gamma+self.R_step*gamma_step, self.R_step)*n_sigma\n",
        "    return self.gamma_sch\n",
        "schedular_r= FFschedular(20,20)\n",
        "a= schedular_r.gamma_schedule()\n",
        "\n",
        "print(a)\n",
        "\n",
        "  # def get_index_from_list(self,vals, t, x_shape):\n",
        "  #   \"\"\"\n",
        "  #   Returns a specific index t of a passed list of values vals\n",
        "  #   while considering the batch dimension.\n",
        "  #   \"\"\"\n",
        "  #   batch_size = t.shape[0]\n",
        "  #   out = vals.gather(-1, t.cpu())\n",
        "  #   return out.reshape(batch_size, *((1,) * (len(x_shape) - 1))).to(t.device)\n",
        "\n",
        "#   def forward_diffusion_sample(x_0, t, device=\"cpu\"):\n",
        "#     \"\"\"\n",
        "#     Takes an image and a timestep as input and\n",
        "#     returns the noisy version of it\n",
        "#     \"\"\"\n",
        "#     noise = torch.randn_like(x_0)\n",
        "#     sqrt_alphas_cumprod_t = get_index_from_list(sqrt_alphas_cumprod, t, x_0.shape)\n",
        "#     sqrt_one_minus_alphas_cumprod_t = get_index_from_list(\n",
        "#         sqrt_one_minus_alphas_cumprod, t, x_0.shape\n",
        "#     )\n",
        "#     # mean + variance\n",
        "#     return sqrt_alphas_cumprod_t.to(device) * x_0.to(device) \\\n",
        "#     + sqrt_one_minus_alphas_cumprod_t.to(device) * noise.to(device), noise.to(device)\n",
        "\n",
        "\n",
        "#   # Define beta schedule\n",
        "#   T = 300\n",
        "#   betas = linear_beta_schedule(timesteps=T)\n",
        "\n",
        "#   # Pre-calculate different terms for closed form\n",
        "#   alphas = 1. - betas\n",
        "#   alphas_cumprod = torch.cumprod(alphas, axis=0)\n",
        "#   alphas_cumprod_prev = F.pad(alphas_cumprod[:-1], (1, 0), value=1.0)\n",
        "#   sqrt_recip_alphas = torch.sqrt(1.0 / alphas)\n",
        "#   sqrt_alphas_cumprod = torch.sqrt(alphas_cumprod)\n",
        "#   sqrt_one_minus_alphas_cumprod = torch.sqrt(1. - alphas_cumprod)\n",
        "#   posterior_variance = betas * (1. - alphas_cumprod_prev) / (1. - alphas_cumprod)"
      ],
      "metadata": {
        "id": "wkFuN_Iv1Sjq",
        "colab": {
          "base_uri": "https://localhost:8080/",
          "height": 106
        },
        "outputId": "74a9d40d-6338-4101-fb20-6ced782a3bb4"
      },
      "execution_count": null,
      "outputs": [
        {
          "output_type": "error",
          "ename": "SyntaxError",
          "evalue": "non-default argument follows default argument (<ipython-input-2-791410f7f871>, line 4)",
          "traceback": [
            "\u001b[0;36m  File \u001b[0;32m\"<ipython-input-2-791410f7f871>\"\u001b[0;36m, line \u001b[0;32m4\u001b[0m\n\u001b[0;31m    def __init__(self,timesteps, R_step, start=0.0001, end=0.02, init_gamma=0.005, n_sigma):\u001b[0m\n\u001b[0m                                                                                   ^\u001b[0m\n\u001b[0;31mSyntaxError\u001b[0m\u001b[0;31m:\u001b[0m non-default argument follows default argument\n"
          ]
        }
      ]
    },
    {
      "cell_type": "code",
      "source": [
        "# # from sympy import symbols, sqrt, solve\n",
        "\n",
        "# # Define symbols\n",
        "# a, b, x = sy.symbols('a b x')\n",
        "# a_list=list(range(10))\n",
        "# b_list=list(range(10))\n",
        "# # Define the equation\n",
        "# equation = sy.Sum(a * sy.sqrt(0.01 + b) - 1, )\n",
        "\n",
        "# # Solve the equation for x\n",
        "# solutions = sy.solve(equation.subs(a, a_list[1]).subs(b, b_list[1]), x)\n",
        "\n",
        "# # Display the solutions\n",
        "# print(\"Solutions for x:\",solutions)\n",
        "# for solution in solutions:\n",
        "#     print(solution.evalf())"
      ],
      "metadata": {
        "id": "-iOoA4upGpAa"
      },
      "execution_count": null,
      "outputs": []
    },
    {
      "cell_type": "code",
      "source": [
        "# import numpy as np\n",
        "# from scipy.optimize import bisect\n",
        "\n",
        "# def equation(x, a, b):\n",
        "#     total = 0\n",
        "#     for i in range(1, 9):\n",
        "#         arg_sqrt = b + i * x\n",
        "#         if arg_sqrt < 0:\n",
        "#             return np.inf  # Return infinity if the argument of the square root is negative\n",
        "#         total += a[i-1] * np.sqrt(arg_sqrt)\n",
        "#     return total - 1\n",
        "\n",
        "# a = [1, 2, 3, 4, 5, 6, 7, 8]\n",
        "# b = 0.001\n",
        "\n",
        "# # Define the bounds for the bisection method\n",
        "# lower_bound = -1e6\n",
        "# upper_bound = 1e6\n",
        "\n",
        "# # Use the bisection method to find the root of the equation\n",
        "# solution = bisect(equation, lower_bound, upper_bound, args=(a, b))\n",
        "\n",
        "# print(\"Solution for x:\", solution)"
      ],
      "metadata": {
        "id": "ql8CI-_HzOSV"
      },
      "execution_count": null,
      "outputs": []
    },
    {
      "cell_type": "markdown",
      "source": [
        "Semantic extraction module:"
      ],
      "metadata": {
        "id": "WJYgcEIMeVa0"
      }
    },
    {
      "cell_type": "code",
      "source": [
        "# Load the tokenizer/text encoder model for semantic extraction module.\n",
        "\n",
        "tokenizer = CLIPTokenizer.from_pretrained('openai/clip-vit-large-patch14')\n",
        "text_encoder = CLIPTextModel.from_pretrained('openai/clip-vit-large-patch14')\n",
        "text_encoder = text_encoder.to(device)\n",
        "\n",
        "# Load the image Autoencoder for semantic extraction module.\n",
        "\n",
        "vae_E = AutoencoderKL.from_pretrained('CompVis/stable-diffusion-v1-4', subfolder='vae', use_auth_token=True)\n",
        "vae_E = vae_E.to(device)\n"
      ],
      "metadata": {
        "id": "0zjMgEYNd7Ob"
      },
      "execution_count": null,
      "outputs": []
    },
    {
      "cell_type": "markdown",
      "source": [
        "Semantic-generating module:"
      ],
      "metadata": {
        "id": "Abf5SX5rLDe3"
      }
    },
    {
      "cell_type": "code",
      "source": [
        "# Load the Pre-trained UNet and it corresponding scheduler for semantic-generating module.\n",
        "\n",
        "unet_E = UNet2DConditionModel.from_pretrained(\n",
        "    'CompVis/stable-diffusion-v1-4', subfolder='unet', use_auth_token=True)\n",
        "unet_E = unet_E.to(device)\n",
        "\n",
        "scheduler_E = DDIMScheduler(beta_start=0.00085, beta_end=0.012, beta_schedule='scaled_linear', num_train_timesteps=1000)\n",
        "# scheduler_E = DDPMScheduler(beta_start=0.00085, beta_end=0.012, beta_schedule='scaled_linear', num_train_timesteps=1000)"
      ],
      "metadata": {
        "id": "6Fn3ZtGzLJWt"
      },
      "execution_count": null,
      "outputs": []
    },
    {
      "cell_type": "markdown",
      "source": [
        "Fine-tuning module:"
      ],
      "metadata": {
        "id": "RlmU68QULkeW"
      }
    },
    {
      "cell_type": "code",
      "source": [
        "# Load the Pre-trained UNet for fine-tuning module.\n",
        "\n",
        "unet_D = UNet2DConditionModel.from_pretrained(\n",
        "    'CompVis/stable-diffusion-v1-4', subfolder='unet', use_auth_token=True)\n",
        "unet_D = unet_D.to(device)\n",
        "\n"
      ],
      "metadata": {
        "id": "0be5wcCyLrSP"
      },
      "execution_count": null,
      "outputs": []
    },
    {
      "cell_type": "markdown",
      "source": [
        "Autoencoder decoder module"
      ],
      "metadata": {
        "id": "GB0CqrOkLslX"
      }
    },
    {
      "cell_type": "code",
      "source": [
        "# Load the image decoder for Autoencoder decoder module.\n",
        "\n",
        "vae_D = AutoencoderKL.from_pretrained(\n",
        "    'CompVis/stable-diffusion-v1-4', subfolder='vae', use_auth_token=True)\n",
        "vae_D = vae_D.to(device)\n"
      ],
      "metadata": {
        "id": "BO7SSULPL0Jf"
      },
      "execution_count": null,
      "outputs": []
    },
    {
      "cell_type": "markdown",
      "source": [
        "# Semantic process functions"
      ],
      "metadata": {
        "id": "kit0_kMA0FgS"
      }
    },
    {
      "cell_type": "code",
      "source": [
        "class SemanticProcessing:\n",
        "  def __init__(self,promot,snr = 0, seedsize=32, height = 512, width = 512, guidence_scale = 7.5, Encoder_steps = 15, Decoder_steps = 5, ideal_channel=False):\n",
        "\n",
        "    self.promot = promot\n",
        "    self.snr = snr\n",
        "    self.seedsize = seedsize\n",
        "    self.height = height\n",
        "    self.width = width\n",
        "    self.guidence_scale = guidence_scale\n",
        "    self.num_inference_steps = Encoder_steps + Decoder_steps\n",
        "    self.start_step = Encoder_steps\n",
        "    self.ideal_channel = ideal_channel\n",
        "    self.Pn_2 = []\n",
        "    # self.text_semantics = []\n",
        "    # self.latent_1 = [] # Guassian noise\n",
        "    # self.latents_2 = [] # Transmitter generated semantics\n",
        "    # # self.all_latents_2 = []\n",
        "    # self.latents_3 = [] # Semantics with channel noise-caused semantic noise\n",
        "    # self.latents_4 = [] # Decoder fine-turned semantic\n",
        "  # def ExtractingImageSemantic():\n",
        "\n",
        "  def GenerateInitGnoise(self,batch_size=1):\n",
        "    generator = torch.manual_seed(self.seedsize)\n",
        "    # self.latents_1 = torch.randn(batch_size,seedsize=32)\n",
        "    semantics = torch.randn((batch_size,unet_D.in_channels,self.height//8,self.width//8),generator=generator)\n",
        "    semantics=semantics.to(device)\n",
        "    return semantics\n",
        "\n",
        "  def ExtractingTextSemantic(self,batch_size=1):\n",
        "    # convert text to text token with condition\n",
        "    text_token = tokenizer(self.promot, padding=\"max_length\", max_length=tokenizer.model_max_length, truncation=True, return_tensors=\"pt\")\n",
        "\n",
        "    with torch.no_grad():\n",
        "      text_sem = text_encoder(text_token.input_ids.to(device))[0]\n",
        "\n",
        "    # generate unconditional token\n",
        "    max_length = text_token.input_ids.shape[-1]\n",
        "    uncon_token = tokenizer([\"\"] * batch_size, padding=\"max_length\", max_length=max_length, return_tensors=\"pt\")\n",
        "\n",
        "    with torch.no_grad():\n",
        "      uncon_sem = text_encoder(uncon_token.input_ids.to(device))[0]\n",
        "\n",
        "    # concatenates the given token sequence along a new dimension\n",
        "    text_semantics = torch.cat([uncon_sem, text_sem])\n",
        "\n",
        "    return text_semantics\n",
        "\n",
        "\n",
        "  def DiffusionGenerateSemantic(self,semantics,text_semantics,encoder_denoise_step=5,return_encoder_latents=False):\n",
        "    semantics = semantics.to(device)\n",
        "    scheduler_E.set_timesteps(self.num_inference_steps)\n",
        "    semantics = semantics * scheduler_E.init_noise_sigma\n",
        "    # latent_hist=[]\n",
        "    # for t in tqdm(scheduler_E.timesteps):\n",
        "    for t in scheduler_E.timesteps:\n",
        "      latent_model_input = torch.cat([semantics] * 2)\n",
        "      latent_model_input = scheduler_E.scale_model_input(latent_model_input, t)\n",
        "    # predict noise distribution\n",
        "      with torch.no_grad():\n",
        "        noise_pred = unet_E(latent_model_input,t,encoder_hidden_states = text_semantics).sample\n",
        "\n",
        "      noise_pred_uncond, noise_pred_text = noise_pred.chunk(2)\n",
        "      noise_pred = noise_pred_uncond + self.guidence_scale * (noise_pred_text - noise_pred_uncond)\n",
        "      semantics = scheduler_E.step(noise_pred, t, semantics).prev_sample\n",
        "      if t == scheduler_E.timesteps[-encoder_denoise_step]:\n",
        "        encoder_semantics = semantics\n",
        "      # latent_hist_2.append(self.latents_2)\n",
        "    if not return_encoder_latents:\n",
        "      return semantics\n",
        "    else:\n",
        "      return encoder_semantics\n",
        "    # self.all_latents_2 = torch.cat(latent_hist_2, dim=0)\n",
        "    # return self.all_latents_2\n",
        "\n",
        "\n",
        "  def ChannelNoise(self,semantics,gain=1):\n",
        "    #AWGN Channel\n",
        "    h_latents = semantics.shape[2]\n",
        "    w_latents = semantics.shape[3]\n",
        "    Ps = torch.sum(torch.pow(semantics,2))/h_latents/w_latents\n",
        "    Pn = Ps/(np.power(10,self.snr/10))\n",
        "    self.Pn_2 = torch.sqrt(Pn).to(\"cpu\")\n",
        "    noise_channel=torch.randn_like(semantics).uniform_(0,1)*self.Pn_2\n",
        "\n",
        "    semantics=semantics.to(device)\n",
        "    scheduler_E.set_timesteps(self.num_inference_steps)\n",
        "    if self.start_step > 0:\n",
        "      start_timestep = scheduler_E.timesteps[self.start_step]\n",
        "      start_timesteps = start_timestep.repeat(semantics.shape[0]).long()\n",
        "\n",
        "      noise = torch.randn_like(semantics)\n",
        "      semantics = scheduler_E.add_noise(semantics, noise, start_timesteps)\n",
        "      if not self.ideal_channel:\n",
        "        semantics = semantics + noise_channel/2\n",
        "        # print(\"<<<<<<<<\",self.snr,\">>>>>>>>\")\n",
        "      else:\n",
        "        print(\"<<<<<<<<Ideal Channel>>>>>>>>\")\n",
        "    return semantics\n",
        "\n",
        "  def FineTuning(self, semantics, text_semantics, guidance_scale=7.5, return_all_latents=False):\n",
        "    semantics = semantics.to(device)\n",
        "    with autocast('cuda'):\n",
        "      # for i, t in tqdm(enumerate(scheduler_E.timesteps[self.start_step:])):\n",
        "      for i, t in enumerate(scheduler_E.timesteps[self.start_step:]):\n",
        "        # expand the latents if we are doing classifier-free guidance to avoid doing two forward passes.\n",
        "        latent_model_input = torch.cat([semantics] * 2)\n",
        "\n",
        "        # predict the noise residual\n",
        "        with torch.no_grad():\n",
        "          noise_pred = unet_D(latent_model_input, t, encoder_hidden_states=text_semantics).sample\n",
        "\n",
        "        # perform guidance\n",
        "        noise_pred_uncond, noise_pred_text = noise_pred.chunk(2)\n",
        "        noise_pred = noise_pred_uncond + guidance_scale * (noise_pred_text - noise_pred_uncond)*self.Pn_2\n",
        "\n",
        "        # compute the previous noisy sample x_t -> x_t-1\n",
        "        semantics = scheduler_E.step(noise_pred, t, semantics).prev_sample\n",
        "    if not return_all_latents:\n",
        "      return semantics\n",
        "\n",
        "\n",
        "\n",
        "  def DecodeImage(self,semantics,I_names):\n",
        "\n",
        "    semantics = 1 / 0.18215 * semantics\n",
        "    names=locals()\n",
        "    with torch.no_grad():\n",
        "      image = vae_D.decode(semantics).sample\n",
        "    image = (image / 2 + 0.5).clamp(0, 1)\n",
        "    image = image.detach().cpu().permute(0, 2, 3, 1).numpy()\n",
        "    images = (image * 255).round().astype(\"uint8\")\n",
        "    Out_images = [Image.fromarray(image) for image in images]\n",
        "    Out_images[0].save(filepath+I_names)#'image_out.png'\n",
        "    Out_images[0]\n",
        "\n",
        "  def OutputImage(self,I_names,UEoutput=False):\n",
        "    image_semantic_E = self.GenerateInitGnoise()\n",
        "    text_semantic_E = self.ExtractingTextSemantic()\n",
        "    image_semantic_E = self.DiffusionGenerateSemantic(image_semantic_E,text_semantic_E)\n",
        "    if not UEoutput:\n",
        "      self.DecodeImage(image_semantic_E,I_names)\n",
        "      #output image in transmitter\n",
        "    # else:\n",
        "    #   image_semantic_D = self.ChannelNoise(image_semantic_E)+image_semantic_E\n",
        "    #   self.all_latents_2 = image_semantic_D+noise\n",
        "    #   image_semantic_D = self.DiffusionGenerateSemantic(unet=unet_E)\n",
        "    #   self.DecodeImage(image_semantic_D,I_names)\n"
      ],
      "metadata": {
        "id": "XQgiDKZd0EUS"
      },
      "execution_count": null,
      "outputs": []
    },
    {
      "cell_type": "markdown",
      "source": [
        "### Fine-Tune Diffusion UNet ** (Optional)"
      ],
      "metadata": {
        "id": "tcyJnWQDOxk9"
      }
    },
    {
      "cell_type": "code",
      "source": [
        "'''Details see\n",
        "#https://github.com/cloneofsimo/lora\n",
        "#https://github.com/Linaqruf/kohya-trainer/blob/main/kohya-LoRA-dreambooth.ipynb\n",
        "#https://github.com/Linaqruf/kohya-trainer/blob/main/kohya-LoRA-finetuner.ipynb\n",
        "'''\n"
      ],
      "metadata": {
        "id": "nnlNsGv1PJ6y"
      },
      "execution_count": null,
      "outputs": []
    },
    {
      "cell_type": "markdown",
      "source": [
        "# Semantic-empowered AIGC transmission"
      ],
      "metadata": {
        "id": "IuBNLzEoFnD6"
      }
    },
    {
      "cell_type": "code",
      "source": [
        "SemAIGC = SemanticProcessing(\"A cute furry cat\",6, seedsize=30, Encoder_steps = 5, Decoder_steps = 15,) #28 #30\n",
        "\n",
        "Image_semantics_0 = SemAIGC.GenerateInitGnoise() #Generated initial Guassian noise\n",
        "# print(latents_0)\n",
        "text_semantics = SemAIGC.ExtractingTextSemantic() #Text semantic information\n",
        "\n",
        "\n",
        "Image_semantic_1 = SemAIGC.DiffusionGenerateSemantic(Image_semantics_0,text_semantics) #Image semantic information\n",
        "\n",
        "\n"
      ],
      "metadata": {
        "colab": {
          "base_uri": "https://localhost:8080/",
          "height": 104,
          "referenced_widgets": [
            "0cab524f5a7a41d796616d24c8d48a88",
            "d0acdc988b78485989ed6cd6b801f805",
            "af6821ae4090439da81baf08e70c5da9",
            "ede5afbb37a6447d9966f52efb573620",
            "07ed3850945e48d5948da70da777c9da",
            "fb4a517c839749adbbcce726ad22c15c",
            "cbd8f5d733fb4bc7b569784a5e74e26e",
            "fc4504d167c540a68408f5bde9c0e41b",
            "6e346d551fc34cc3b8d944aca9785131",
            "cc59ee6d0b3f45a481545901edd4450b",
            "0a18b29f9b5544b49f49ae9cce6deb76"
          ]
        },
        "id": "Fg7vc2u5Ftt4",
        "outputId": "57beea50-d8b2-47d8-9b92-30bdcacbba00"
      },
      "execution_count": null,
      "outputs": [
        {
          "output_type": "stream",
          "name": "stderr",
          "text": [
            "<ipython-input-85-9ad9c5ce53d7>:25: FutureWarning: Accessing config attribute `in_channels` directly via 'UNet2DConditionModel' object attribute is deprecated. Please access 'in_channels' over 'UNet2DConditionModel's config object instead, e.g. 'unet.config.in_channels'.\n",
            "  semantics = torch.randn((batch_size,unet_D.in_channels,self.height//8,self.width//8),generator=generator)\n"
          ]
        },
        {
          "output_type": "display_data",
          "data": {
            "text/plain": [
              "  0%|          | 0/20 [00:00<?, ?it/s]"
            ],
            "application/vnd.jupyter.widget-view+json": {
              "version_major": 2,
              "version_minor": 0,
              "model_id": "0cab524f5a7a41d796616d24c8d48a88"
            }
          },
          "metadata": {
            "application/vnd.jupyter.widget-view+json": {
              "colab": {
                "custom_widget_manager": {
                  "url": "https://ssl.gstatic.com/colaboratory-static/widgets/colab-cdn-widget-manager/2b70e893a8ba7c0f/manager.min.js"
                }
              }
            }
          }
        }
      ]
    },
    {
      "cell_type": "code",
      "source": [
        "# def wgn(latents,h,w,snr):\n",
        "\n",
        "#     Ps=np.sum(np.power(latents,2))/h/w\n",
        "#     Pn=Ps/(np.power(10,snr/10))\n",
        "#     print(\"Pn\",Pn)\n",
        "#     noise=np.random.randn(latents.shape).uniform_(0,1)*np.sqrt(Pn)\n",
        "#     return noise\n",
        "# def wgn_2(semantics,snr):\n",
        "#     h_latents = semantics.shape[2]\n",
        "#     w_latents = semantics.shape[3]\n",
        "#     Ps = torch.sum(torch.pow(semantics,2))/h_latents/w_latents\n",
        "#     Pn = Ps/(np.power(10,snr/10))\n",
        "#     Pn_2 = torch.sqrt(Pn).to(\"cpu\")\n",
        "#     noise=torch.randn_like(semantics).uniform_(0,1)*Pn_2\n",
        "#     return noise"
      ],
      "metadata": {
        "id": "TzluAgQfjYgr"
      },
      "execution_count": null,
      "outputs": []
    },
    {
      "cell_type": "code",
      "source": [
        "# Image_NON_SEM=Image_semantic_1+wgn_2(Image_semantic_1,-3)\n",
        "# Image_NON = SemAIGC.DecodeImage(Image_NON_SEM,\"Image_NON_SEM.png\")"
      ],
      "metadata": {
        "id": "uxHsDwyuqX_G"
      },
      "execution_count": null,
      "outputs": []
    },
    {
      "cell_type": "code",
      "source": [
        "\n",
        "Image_E = SemAIGC.DecodeImage(Image_semantic_1,\"out_1.png\")\n",
        "print(Image_E)\n",
        "image_c = cv2.imread(\"out_1.png\")\n",
        "height=512\n",
        "width=512\n",
        "channels=3\n",
        "# Gaussian mean and variance\n",
        "# snr = 6\n",
        "# bandwidth = 0.0005 * 10**6  # 5 MHz\n",
        "snr=-3\n",
        "# # calculate\n",
        "# noise_power = 10**(-snr / 10) * bandwidth\n",
        "Ps=np.sum(np.power(image_c,2))/height/width\n",
        "noise_power=Ps/(np.power(10,snr/10))\n",
        "# generate Gaussian Noise matrixes/tensors\n",
        "\n",
        "noise = np.random.normal(0, np.sqrt(noise_power), (height, width, channels))\n",
        "\n",
        "print(noise)\n",
        "# add noise to image\n",
        "noisy_image = image_c + noise\n",
        "\n",
        "print(noisy_image)\n",
        "# avoid pixels of noisy images exceed 255\n",
        "noisy_image = np.clip(noisy_image, 0, 255)\n",
        "# save images\n",
        "cv2.imwrite(\"noisy_img.png\",noisy_image)\n"
      ],
      "metadata": {
        "colab": {
          "base_uri": "https://localhost:8080/"
        },
        "id": "78PKc7e4jaIm",
        "outputId": "c93be157-8412-4b11-de77-896300381852"
      },
      "execution_count": null,
      "outputs": [
        {
          "output_type": "stream",
          "name": "stdout",
          "text": [
            "None\n",
            "[[[  7.52219708  -4.06623169  13.49732471]\n",
            "  [-14.62816781 -17.28207491  -2.01599832]\n",
            "  [-15.53855465  -2.89222927 -10.32031235]\n",
            "  ...\n",
            "  [-22.86108285   9.47075364  25.54762999]\n",
            "  [ 30.99040888   3.59910826 -30.69175752]\n",
            "  [ 31.04427693 -20.53096888   2.78101279]]\n",
            "\n",
            " [[ 26.31716511  13.68783861 -19.22541937]\n",
            "  [-31.67286516  20.7938557   12.4093331 ]\n",
            "  [ 26.24461476 -49.55705451  13.23289646]\n",
            "  ...\n",
            "  [ 16.05256371   3.14526246  -3.04367709]\n",
            "  [  9.70884647  46.16957584 -35.83355984]\n",
            "  [ 25.61324874  -8.52204303  -6.22440623]]\n",
            "\n",
            " [[  6.42469646  19.74759279 -40.53286328]\n",
            "  [ 21.18225763  23.07310173   6.34220663]\n",
            "  [  1.60683238  46.35933315  -4.68831834]\n",
            "  ...\n",
            "  [ -8.40361431 -14.4008148  -16.35307713]\n",
            "  [ 23.28381244 -53.25431738 -29.56867711]\n",
            "  [ 49.05250678  20.4877236  -10.92961446]]\n",
            "\n",
            " ...\n",
            "\n",
            " [[-14.70617493   1.64658139  45.32298615]\n",
            "  [ -1.61779188   1.23661846 -15.13703768]\n",
            "  [  9.52440837   3.33136447  36.43885491]\n",
            "  ...\n",
            "  [  7.82099557  32.77485945 -12.22135579]\n",
            "  [ 13.68151856  13.2587548   50.89271179]\n",
            "  [-26.04097053 -12.40440514  10.86287405]]\n",
            "\n",
            " [[ 12.665621    11.58395235 -11.20063361]\n",
            "  [ -4.79937434 -46.37094997 -11.59382922]\n",
            "  [ 23.972128    13.27713711  -7.55397529]\n",
            "  ...\n",
            "  [  4.48225372  16.21014307  47.18595718]\n",
            "  [  9.22295267  13.00208549  -6.5131504 ]\n",
            "  [ -9.37500159  -9.51478014  28.23060743]]\n",
            "\n",
            " [[-19.90410819  -8.01299571 -12.05323563]\n",
            "  [ 38.56257896  81.4973098    1.96654669]\n",
            "  [-39.33866907 -24.95281652  15.5119626 ]\n",
            "  ...\n",
            "  [  6.39573367  55.41374302   7.45281979]\n",
            "  [ -7.13633652   1.02466004  -9.12085753]\n",
            "  [ -2.14141872 -29.85811632 -41.43220258]]]\n",
            "[[[ 68.52219708  77.93376831 125.49732471]\n",
            "  [ 59.37183219  73.71792509 119.98400168]\n",
            "  [ 58.46144535  84.10777073 107.67968765]\n",
            "  ...\n",
            "  [ 99.13891715 138.47075364 156.54762999]\n",
            "  [142.99040888 126.59910826 103.30824248]\n",
            "  [104.04427693  78.46903112 130.78101279]]\n",
            "\n",
            " [[ 92.31716511  99.68783861 100.77458063]\n",
            "  [ 38.32713484 105.7938557  128.4093331 ]\n",
            "  [ 96.24461476  36.44294549 126.23289646]\n",
            "  ...\n",
            "  [174.05256371 175.14526246 183.95632291]\n",
            "  [154.70884647 206.16957584 147.16644016]\n",
            "  [171.61324874 154.47795697 199.77559377]]\n",
            "\n",
            " [[ 77.42469646 108.74759279  78.46713672]\n",
            "  [ 93.18225763 105.07310173 123.34220663]\n",
            "  [ 73.60683238 130.35933315 106.31168166]\n",
            "  ...\n",
            "  [ 58.59638569  24.5991852   64.64692287]\n",
            "  [ 96.28381244  -3.25431738  71.43132289]\n",
            "  [109.05250678  92.4877236  102.07038554]]\n",
            "\n",
            " ...\n",
            "\n",
            " [[190.29382507 176.64658139 200.32298615]\n",
            "  [200.38220812 167.23661846 135.86296232]\n",
            "  [208.52440837 173.33136447 189.43885491]\n",
            "  ...\n",
            "  [ 79.82099557  98.77485945  44.77864421]\n",
            "  [ 72.68151856  64.2587548   97.89271179]\n",
            "  [ 33.95902947  43.59559486  59.86287405]]\n",
            "\n",
            " [[219.665621   188.58395235 142.79936639]\n",
            "  [196.20062566 120.62905003 138.40617078]\n",
            "  [223.972128   182.27713711 145.44602471]\n",
            "  ...\n",
            "  [ 53.48225372  47.21014307  83.18595718]\n",
            "  [ 60.22295267  48.00208549  27.4868496 ]\n",
            "  [ 54.62499841  47.48521986  72.23060743]]\n",
            "\n",
            " [[188.09589181 168.98700429 146.94676437]\n",
            "  [245.56257896 252.4973098  152.96654669]\n",
            "  [161.66133093 143.04718348 165.5119626 ]\n",
            "  ...\n",
            "  [ 90.39573367 125.41374302  65.45281979]\n",
            "  [ 75.86366348  80.02466004  58.87914247]\n",
            "  [ 45.85858128   3.14188368  -6.43220258]]]\n"
          ]
        },
        {
          "output_type": "execute_result",
          "data": {
            "text/plain": [
              "True"
            ]
          },
          "metadata": {},
          "execution_count": 58
        }
      ]
    },
    {
      "cell_type": "code",
      "source": [
        "Image_semantic_1_en = SemAIGC.DiffusionGenerateSemantic(Image_semantics_0,text_semantics,return_encoder_latents=True )"
      ],
      "metadata": {
        "colab": {
          "base_uri": "https://localhost:8080/",
          "height": 49,
          "referenced_widgets": [
            "9db928583ec9489b89c374bd03d3f328",
            "6591c70150714bf5845b31c51431ec77",
            "080fab7d659148b0a6dda055b9c215c7",
            "3d2e998c5bf544e2b1249cf99671b651",
            "5f93e7c7ed0e47d5bd1094596594c4d7",
            "ba27f5645919405eaa1f544c275273b1",
            "06698e5197f94817b00ac58e25c8d81d",
            "a456db07ad954424907db53f1fdfdb89",
            "a92ab3504c8d45ceb97ad89774a2098b",
            "b6f9ae890d594f7dae87d7cf0150a454",
            "52d39acdcf9b4478a9e966fa4e10ac02"
          ]
        },
        "id": "0lqBPMv0rfeG",
        "outputId": "5c8a01ca-6f8b-4a78-ce51-7ebb5c55acca"
      },
      "execution_count": null,
      "outputs": [
        {
          "output_type": "display_data",
          "data": {
            "text/plain": [
              "  0%|          | 0/20 [00:00<?, ?it/s]"
            ],
            "application/vnd.jupyter.widget-view+json": {
              "version_major": 2,
              "version_minor": 0,
              "model_id": "9db928583ec9489b89c374bd03d3f328"
            }
          },
          "metadata": {
            "application/vnd.jupyter.widget-view+json": {
              "colab": {
                "custom_widget_manager": {
                  "url": "https://ssl.gstatic.com/colaboratory-static/widgets/colab-cdn-widget-manager/2b70e893a8ba7c0f/manager.min.js"
                }
              }
            }
          }
        }
      ]
    },
    {
      "cell_type": "code",
      "source": [
        "Image_i = SemAIGC.DecodeImage(Image_semantics_0,\"out_0.png\")\n",
        "\n",
        "Image_E = SemAIGC.DecodeImage(Image_semantic_1,\"out_1.png\")\n",
        "\n",
        "Image_E_en = SemAIGC.DecodeImage(Image_semantic_1_en,\"out_1_en.png\")\n"
      ],
      "metadata": {
        "id": "0KZ3pXKJZulM"
      },
      "execution_count": null,
      "outputs": []
    },
    {
      "cell_type": "code",
      "source": [
        "Image_semantic_noise = SemAIGC.ChannelNoise(Image_semantic_1,gain=10)\n",
        "Image_n = SemAIGC.DecodeImage(Image_semantic_noise,\"out_2.png\")\n",
        "\n",
        "Image_semantic_D = SemAIGC.FineTuning(Image_semantic_noise,text_semantics)\n",
        "Image_D = SemAIGC.DecodeImage(Image_semantic_D,\"out_3.png\")"
      ],
      "metadata": {
        "colab": {
          "base_uri": "https://localhost:8080/",
          "height": 66,
          "referenced_widgets": [
            "ba8450bf0cf04aaab9d9e8c95a6753da",
            "de1622572a6747e8848fa2803656f437",
            "6b5fed37126846219c311f1bb9a3f6da",
            "78d2a8f601c0497ca2e4fe018ec3d660",
            "7b2c78575b0a4968b35e62cfbe8be26e",
            "bf73be009de247539784c564fdb7c7b7",
            "e9cc723889584e42a93de704550019c2",
            "5419ba65ae9243f38dc35000f98e7298",
            "f669b4dd389a4799b60ad7bc162cfa4b",
            "52bfa438b80246b68fb52adbaff58640",
            "221f9f40758242a88c48911853a44925"
          ]
        },
        "id": "pq-_N0yiIOwj",
        "outputId": "018430f8-6f32-44d2-e799-55550f7cfc8c"
      },
      "execution_count": null,
      "outputs": [
        {
          "output_type": "stream",
          "name": "stdout",
          "text": [
            "<<<<<<<< 6 >>>>>>>>\n"
          ]
        },
        {
          "output_type": "display_data",
          "data": {
            "text/plain": [
              "0it [00:00, ?it/s]"
            ],
            "application/vnd.jupyter.widget-view+json": {
              "version_major": 2,
              "version_minor": 0,
              "model_id": "ba8450bf0cf04aaab9d9e8c95a6753da"
            }
          },
          "metadata": {
            "application/vnd.jupyter.widget-view+json": {
              "colab": {
                "custom_widget_manager": {
                  "url": "https://ssl.gstatic.com/colaboratory-static/widgets/colab-cdn-widget-manager/2b70e893a8ba7c0f/manager.min.js"
                }
              }
            }
          }
        }
      ]
    },
    {
      "cell_type": "code",
      "source": [
        "for i in range(4):\n",
        "  for SNR in range(-3,13,3):\n",
        "      for a in range(1,19):\n",
        "        b = 20-a\n",
        "\n",
        "        SemAIGC = SemanticProcessing(\"A cute furry cat\",SNR, seedsize=30, Encoder_steps = a, Decoder_steps = b,) #28 #30\n",
        "\n",
        "        Image_semantics_0 = SemAIGC.GenerateInitGnoise() #Generated initial Guassian noise\n",
        "\n",
        "        text_semantics = SemAIGC.ExtractingTextSemantic() #Text semantic information\n",
        "\n",
        "        Image_semantic_1 = SemAIGC.DiffusionGenerateSemantic(Image_semantics_0,text_semantics) #Image semantic information\n",
        "\n",
        "        Image_semantic_noise = SemAIGC.ChannelNoise(Image_semantic_1,gain=10)\n",
        "        # Image_n = SemAIGC.DecodeImage(Image_semantic_noise,\"out_2.png\")\n",
        "\n",
        "        Image_semantic_D = SemAIGC.FineTuning(Image_semantic_noise,text_semantics)\n",
        "\n",
        "        Image_D = SemAIGC.DecodeImage(Image_semantic_D,\"out_SNR\"+str(SNR)+\"_Encode\"+str(a)+\"_Decode\"+str(b)+\"(\"+str(i)+\")\"+\".png\")\n"
      ],
      "metadata": {
        "id": "H7WR023RXHZO",
        "colab": {
          "base_uri": "https://localhost:8080/"
        },
        "collapsed": true,
        "outputId": "fae8b5f1-9548-4ccb-b660-3065e1816c94"
      },
      "execution_count": null,
      "outputs": [
        {
          "output_type": "stream",
          "name": "stderr",
          "text": [
            "<ipython-input-102-0dace12f8c5e>:25: FutureWarning: Accessing config attribute `in_channels` directly via 'UNet2DConditionModel' object attribute is deprecated. Please access 'in_channels' over 'UNet2DConditionModel's config object instead, e.g. 'unet.config.in_channels'.\n",
            "  semantics = torch.randn((batch_size,unet_D.in_channels,self.height//8,self.width//8),generator=generator)\n"
          ]
        }
      ]
    },
    {
      "cell_type": "code",
      "source": [
        "Ps_0 = torch.sum(torch.pow(Image_semantics_0,2))/64/64\n",
        "\n",
        "Ps_1 = torch.sum(torch.pow(Image_semantic_1,2))/64/64\n",
        "\n",
        "Ps_2 = torch.sum(torch.pow(Image_semantic_1_en,2))/64/64\n",
        "\n",
        "Ps_3 = torch.sum(torch.pow(Image_semantic_noise,2))/64/64\n",
        "\n",
        "Ps_4 = torch.sum(torch.pow(Image_semantic_D,2))/64/64\n",
        "\n",
        "print(Ps_0,Ps_1,Ps_2,Ps_3,Ps_4)"
      ],
      "metadata": {
        "colab": {
          "base_uri": "https://localhost:8080/"
        },
        "id": "mKk6IP6U4dxe",
        "outputId": "1168936f-8288-4518-873a-c4ce56211324"
      },
      "execution_count": null,
      "outputs": [
        {
          "output_type": "stream",
          "name": "stdout",
          "text": [
            "tensor(3.9718, device='cuda:0') tensor(1.0390, device='cuda:0') tensor(1.6323, device='cuda:0') tensor(2.2372, device='cuda:0') tensor(1.9200, device='cuda:0')\n"
          ]
        }
      ]
    },
    {
      "cell_type": "code",
      "source": [
        "a=scheduler_E.timesteps[-1]\n",
        "b=scheduler_E.timesteps[-2]\n",
        "print(scheduler_E._get_variance(a,b))\n"
      ],
      "metadata": {
        "id": "x7nzN069Qosn",
        "colab": {
          "base_uri": "https://localhost:8080/"
        },
        "outputId": "5e943cb9-bdfd-400f-8685-aa637b94ee14"
      },
      "execution_count": null,
      "outputs": [
        {
          "output_type": "stream",
          "name": "stdout",
          "text": [
            "tensor(-2.8480, device='cuda:0')\n"
          ]
        }
      ]
    },
    {
      "cell_type": "code",
      "source": [
        "h_latents=Image_semantic_1.shape[2]\n",
        "w_latents=Image_semantic_1.shape[3]\n",
        "Ps=torch.sum(torch.pow(Image_semantic_1,2))/h_latents/w_latents\n",
        "Pn=Ps/(np.power(10,6/10))\n",
        "Pn=torch.sqrt(Pn).to(\"cpu\")\n",
        "print(\"Pn\",Pn.device)\n",
        "print(\"Image\",Image_semantic_1.device)\n",
        "aa=torch.randn(Image_semantic_1.shape).uniform_(0,1)\n",
        "print(\"aa\",aa.device)\n",
        "\n",
        "noise=torch.randn(Image_semantic_1.shape).uniform_(0,1)*torch.sqrt(Pn)\n",
        "noise=torch.randn(Image_semantic_1.shape).uniform_(0,1)*torch.sqrt(Pn)\n"
      ],
      "metadata": {
        "id": "Hz8pDYQSPEc7"
      },
      "execution_count": null,
      "outputs": []
    },
    {
      "cell_type": "code",
      "source": [
        "\n",
        "# if you changed the MLP architecture during training, change it also here:\n",
        "class MLP(pl.LightningModule):\n",
        "    def __init__(self, input_size, xcol='emb', ycol='avg_rating'):\n",
        "        super().__init__()\n",
        "        self.input_size = input_size\n",
        "        self.xcol = xcol\n",
        "        self.ycol = ycol\n",
        "        self.layers = nn.Sequential(\n",
        "            nn.Linear(self.input_size, 1024),\n",
        "            #nn.ReLU(),\n",
        "            nn.Dropout(0.2),\n",
        "            nn.Linear(1024, 128),\n",
        "            #nn.ReLU(),\n",
        "            nn.Dropout(0.2),\n",
        "            nn.Linear(128, 64),\n",
        "            #nn.ReLU(),\n",
        "            nn.Dropout(0.1),\n",
        "\n",
        "            nn.Linear(64, 16),\n",
        "            #nn.ReLU(),\n",
        "\n",
        "            nn.Linear(16, 1)\n",
        "        )\n",
        "\n",
        "    def forward(self, x):\n",
        "        return self.layers(x)\n",
        "\n",
        "    def training_step(self, batch, batch_idx):\n",
        "        x = batch[self.xcol]\n",
        "        y = batch[self.ycol].reshape(-1, 1)\n",
        "        x_hat = self.layers(x)\n",
        "        loss = F.mse_loss(x_hat, y)\n",
        "        return loss\n",
        "\n",
        "    def validation_step(self, batch, batch_idx):\n",
        "        x = batch[self.xcol]\n",
        "        y = batch[self.ycol].reshape(-1, 1)\n",
        "        x_hat = self.layers(x)\n",
        "        loss = F.mse_loss(x_hat, y)\n",
        "        return loss\n",
        "\n",
        "    def configure_optimizers(self):\n",
        "        optimizer = torch.optim.Adam(self.parameters(), lr=1e-3)\n",
        "        return optimizer\n",
        "\n",
        "def normalized(a, axis=-1, order=2):\n",
        "    import numpy as np  # pylint: disable=import-outside-toplevel\n",
        "\n",
        "    l2 = np.atleast_1d(np.linalg.norm(a, order, axis))\n",
        "    l2[l2 == 0] = 1\n",
        "    return a / np.expand_dims(l2, axis)\n",
        "\n",
        "def load_models():\n",
        "    model = MLP(768)\n",
        "\n",
        "    device = \"cuda\" if torch.cuda.is_available() else \"cpu\"\n",
        "\n",
        "    s = torch.load(\"sac+logos+ava1-l14-linearMSE.pth\", map_location=device)\n",
        "\n",
        "    model.load_state_dict(s)\n",
        "    model.to(device)\n",
        "    model.eval()\n",
        "\n",
        "    model2, preprocess = clip.load(\"ViT-L/14\", device=device)\n",
        "\n",
        "    model_dict = {}\n",
        "    model_dict['classifier'] = model\n",
        "    model_dict['clip_model'] = model2\n",
        "    model_dict['clip_preprocess'] = preprocess\n",
        "    model_dict['device'] = device\n",
        "\n",
        "    return model_dict\n",
        "\n",
        "def predict(image):\n",
        "    image_input = model_dict['clip_preprocess'](image).unsqueeze(0).to(model_dict['device'])\n",
        "    with torch.no_grad():\n",
        "        image_features = model_dict['clip_model'].encode_image(image_input)\n",
        "        if model_dict['device'] == 'cuda':\n",
        "            im_emb_arr = normalized(image_features.detach().cpu().numpy())\n",
        "            im_emb = torch.from_numpy(im_emb_arr).to(model_dict['device']).type(torch.cuda.FloatTensor)\n",
        "        else:\n",
        "            im_emb_arr = normalized(image_features.detach().numpy())\n",
        "            im_emb = torch.from_numpy(im_emb_arr).to(model_dict['device']).type(torch.FloatTensor)\n",
        "\n",
        "        prediction = model_dict['classifier'](im_emb)\n",
        "    score = prediction.item()\n",
        "\n",
        "    return {'aesthetic score': score}\n",
        "\n",
        "if __name__ == '__main__':\n",
        "    print('\\tinit models')\n",
        "\n",
        "    global model_dict\n",
        "\n",
        "    model_dict = load_models()\n",
        "\n",
        "    inputs = [gr.inputs.Image(type='pil', label='Image')]\n",
        "\n",
        "    outputs = gr.outputs.JSON()\n",
        "\n",
        "    title = 'image aesthetic predictor'\n",
        "\n",
        "    examples = ['example1.jpg', 'example2.jpg', 'example3.jpg']\n",
        "\n",
        "    description = \"\"\"\n",
        "    # Image Aesthetic Predictor Demo\n",
        "    This model (Image Aesthetic Predictor) is trained by LAION Team. See [https://github.com/christophschuhmann/improved-aesthetic-predictor](https://github.com/christophschuhmann/improved-aesthetic-predictor)\n",
        "    1. This model is desgined by adding five MLP layers on top of (frozen) CLIP ViT-L/14 and only the MLP layers are fine-tuned with a lot of images by a regression loss term such as MSE and MAE.\n",
        "    2. Output is bounded from 0 to 10. The higher the better.\n",
        "    \"\"\"\n",
        "\n",
        "    article = \"<p style='text-align: center'><a href='https://laion.ai/blog/laion-aesthetics/'>LAION aesthetics blog post</a></p>\"\n",
        "\n",
        "    with gr.Blocks() as demo:\n",
        "        gr.Markdown(description)\n",
        "        with gr.Row():\n",
        "            with gr.Column():\n",
        "                image_input = gr.Image(type='pil', label='Input image')\n",
        "                submit_button = gr.Button('Submit')\n",
        "            json_output = gr.JSON(label='Output')\n",
        "        submit_button.click(predict, inputs=image_input, outputs=json_output)\n",
        "        gr.Examples(examples=examples, inputs=image_input)\n",
        "        gr.HTML(article)\n",
        "    demo.launch()"
      ],
      "metadata": {
        "id": "db4_i2kcisrG"
      },
      "execution_count": null,
      "outputs": []
    }
  ]
}